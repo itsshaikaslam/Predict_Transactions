{
 "cells": [
  {
   "cell_type": "code",
   "execution_count": 42,
   "metadata": {},
   "outputs": [],
   "source": [
    "import pandas as pd\n",
    "import numpy as np\n",
    "from gensim.models import Word2Vec\n",
    "from gensim.models import KeyedVectors\n",
    "import datetime"
   ]
  },
  {
   "cell_type": "code",
   "execution_count": 27,
   "metadata": {},
   "outputs": [],
   "source": [
    "df = pd.read_csv('data/cc_data.csv')\n",
    "df = df[:1000]"
   ]
  },
  {
   "cell_type": "code",
   "execution_count": 28,
   "metadata": {},
   "outputs": [
    {
     "data": {
      "text/plain": [
       "Index(['Normalized Retailer', 'SIC Description', 'Purchase Amount'], dtype='object')"
      ]
     },
     "execution_count": 28,
     "metadata": {},
     "output_type": "execute_result"
    }
   ],
   "source": [
    "df = df[['Normalized Retailer','SIC Description','Purchase Amount']]\n",
    "df.columns"
   ]
  },
  {
   "cell_type": "code",
   "execution_count": 62,
   "metadata": {},
   "outputs": [
    {
     "name": "stdout",
     "output_type": "stream",
     "text": [
      "['Red Robin', 'California Thai', 'Petro-Canada', 'The Beer Store', 'Intermarche', \"Harvey's\", 'Pet Valu', 'Bc Liquor Stores', 'Amazon', 'Fas Gas', 'Esso', \"Wendy's\", 'Tim Hortons', 'H Mart', 'KFC', \"Mac's Convenience Store\", 'Subway', 'Metro', \"McDonald's\", 'Canadian Tire Store']\n",
      "Numbers of retailers: 226\n"
     ]
    }
   ],
   "source": [
    "retailer_list = list(df['Normalized Retailer'].unique())\n",
    "print(retailer_list[:20])\n",
    "print(\"Numbers of retailers: %d\" % len(retailer_list))"
   ]
  },
  {
   "cell_type": "code",
   "execution_count": 64,
   "metadata": {},
   "outputs": [
    {
     "name": "stdout",
     "output_type": "stream",
     "text": [
      "['Eating Places', 'Gasoline Service Stations', 'Liquor Stores', 'Grocery Stores', 'Optical Goods Stores', 'Book Stores', 'Variety Stores', 'Hardware Stores', 'Communications Services, Not Elsewhere Classified', 'Taxicabs']\n",
      "Numbers of SIC: 46\n"
     ]
    }
   ],
   "source": [
    "SIC_list = list(df['SIC Description'].unique())\n",
    "print(SIC_list[:10])\n",
    "print(\"Numbers of SIC: %d\" % len(SIC_list))"
   ]
  },
  {
   "cell_type": "code",
   "execution_count": 65,
   "metadata": {},
   "outputs": [
    {
     "data": {
      "text/html": [
       "<div>\n",
       "<style scoped>\n",
       "    .dataframe tbody tr th:only-of-type {\n",
       "        vertical-align: middle;\n",
       "    }\n",
       "\n",
       "    .dataframe tbody tr th {\n",
       "        vertical-align: top;\n",
       "    }\n",
       "\n",
       "    .dataframe thead th {\n",
       "        text-align: right;\n",
       "    }\n",
       "</style>\n",
       "<table border=\"1\" class=\"dataframe\">\n",
       "  <thead>\n",
       "    <tr style=\"text-align: right;\">\n",
       "      <th></th>\n",
       "      <th>Normalized Retailer</th>\n",
       "      <th>Purchase Amount</th>\n",
       "    </tr>\n",
       "    <tr>\n",
       "      <th>SIC Description</th>\n",
       "      <th></th>\n",
       "      <th></th>\n",
       "    </tr>\n",
       "  </thead>\n",
       "  <tbody>\n",
       "    <tr>\n",
       "      <th>Amusement Parks</th>\n",
       "      <td>[Canada's Wonderland]</td>\n",
       "      <td>[112.2]</td>\n",
       "    </tr>\n",
       "    <tr>\n",
       "      <th>Bands, Orchestras, Actors, and Other Entertainers and Entertainment Groups</th>\n",
       "      <td>[Patreon]</td>\n",
       "      <td>[2.69, 20.32]</td>\n",
       "    </tr>\n",
       "    <tr>\n",
       "      <th>Book Stores</th>\n",
       "      <td>[Amazon, Indigo, Scholastic Canada Ltd., Coles]</td>\n",
       "      <td>[24.8, 9.03, 4.55, 154.16, 23.3, 14.15, 18.97,...</td>\n",
       "    </tr>\n",
       "    <tr>\n",
       "      <th>Bowling Centers</th>\n",
       "      <td>[Playdium]</td>\n",
       "      <td>[30.51]</td>\n",
       "    </tr>\n",
       "    <tr>\n",
       "      <th>Children's and Infants' Wear Stores</th>\n",
       "      <td>[Children's Place, Play It Again Sports]</td>\n",
       "      <td>[53.46, 0.2, 22.59]</td>\n",
       "    </tr>\n",
       "  </tbody>\n",
       "</table>\n",
       "</div>"
      ],
      "text/plain": [
       "                                                                                Normalized Retailer  \\\n",
       "SIC Description                                                                                       \n",
       "Amusement Parks                                                               [Canada's Wonderland]   \n",
       "Bands, Orchestras, Actors, and Other Entertaine...                                        [Patreon]   \n",
       "Book Stores                                         [Amazon, Indigo, Scholastic Canada Ltd., Coles]   \n",
       "Bowling Centers                                                                          [Playdium]   \n",
       "Children's and Infants' Wear Stores                        [Children's Place, Play It Again Sports]   \n",
       "\n",
       "                                                                                      Purchase Amount  \n",
       "SIC Description                                                                                        \n",
       "Amusement Parks                                                                               [112.2]  \n",
       "Bands, Orchestras, Actors, and Other Entertaine...                                      [2.69, 20.32]  \n",
       "Book Stores                                         [24.8, 9.03, 4.55, 154.16, 23.3, 14.15, 18.97,...  \n",
       "Bowling Centers                                                                               [30.51]  \n",
       "Children's and Infants' Wear Stores                                               [53.46, 0.2, 22.59]  "
      ]
     },
     "execution_count": 65,
     "metadata": {},
     "output_type": "execute_result"
    }
   ],
   "source": [
    "df_group = df.groupby('SIC Description').agg(lambda x: x.unique().tolist())\n",
    "df_group.head()"
   ]
  },
  {
   "cell_type": "code",
   "execution_count": 67,
   "metadata": {},
   "outputs": [
    {
     "name": "stdout",
     "output_type": "stream",
     "text": [
      "[[\"Canada's Wonderland\"], ['Patreon'], ['Amazon', 'Indigo', 'Scholastic Canada Ltd.', 'Coles'], ['Playdium'], [\"Children's Place\", 'Play It Again Sports'], ['Netflix', 'Rogers'], ['Microsoft', 'Mc Afee', 'Intuit', 'Canada Computers'], ['Reuters.Com', 'Apple'], ['Canada Post', 'DHL'], ['Marble Slab Creamery']]\n"
     ]
    }
   ],
   "source": [
    "training_data = df_group['Normalized Retailer'].tolist()\n",
    "print(training_data[:10])"
   ]
  },
  {
   "cell_type": "code",
   "execution_count": 68,
   "metadata": {},
   "outputs": [
    {
     "name": "stdout",
     "output_type": "stream",
     "text": [
      "Model training time: 0:00:00.106711\n"
     ]
    }
   ],
   "source": [
    "start = datetime.datetime.now()\n",
    "\n",
    "model = Word2Vec(sentences = training_data, # list of sets of retailers\n",
    "                 iter = 5, # epoch\n",
    "                 min_count = 1, # a retailer has to appear more than min_count times to be kept\n",
    "                 size = 3, # hidden layer dimensions\n",
    "                 workers = 4, # specify the number of threads to be used for training\n",
    "                 sg = 1, # Defines the training algorithm. We will use skip-gram so 1 is chosen.\n",
    "                 hs = 0, # Set to 0, as we are applying negative sampling.\n",
    "                 negative = 5, # If > 0, negative sampling will be used. We will use a value of 5.\n",
    "                 window = 9999999)\n",
    "\n",
    "print(\"Model training time: \" + str(datetime.datetime.now()-start))"
   ]
  },
  {
   "cell_type": "code",
   "execution_count": 81,
   "metadata": {},
   "outputs": [
    {
     "name": "stdout",
     "output_type": "stream",
     "text": [
      "Canada's Wonderland\n",
      "Patreon\n",
      "Amazon\n",
      "Indigo\n",
      "Scholastic Canada Ltd.\n",
      "Coles\n",
      "Playdium\n",
      "Children's Place\n",
      "Play It Again Sports\n",
      "Netflix\n"
     ]
    }
   ],
   "source": [
    "# check dictionary\n",
    "for i, word in enumerate(model.wv.vocab):\n",
    "    if i == 10:\n",
    "        break\n",
    "    print(word)"
   ]
  },
  {
   "cell_type": "code",
   "execution_count": 83,
   "metadata": {},
   "outputs": [
    {
     "name": "stdout",
     "output_type": "stream",
     "text": [
      "[-0.00489882  0.02249223  0.14729287]\n"
     ]
    }
   ],
   "source": [
    "# check vector given a certain word from the dictionary\n",
    "print(model.wv['Amazon'])"
   ]
  },
  {
   "cell_type": "code",
   "execution_count": 88,
   "metadata": {},
   "outputs": [
    {
     "name": "stdout",
     "output_type": "stream",
     "text": [
      "Similarity comparison\n",
      "\n",
      "'Netflix'\t'Rogers'\t-0.98\n",
      "'Netflix'\t\"Children's Place\"\t-0.56\n",
      "'Play It Again Sports'\t\"Children's Place\"\t0.84\n"
     ]
    }
   ],
   "source": [
    "# calculate similarity between two words\n",
    "pairs = [\n",
    "    (\"Netflix\", \"Rogers\"), \n",
    "    (\"Netflix\", \"Children's Place\"),   \n",
    "    (\"Play It Again Sports\", \"Children's Place\"), \n",
    "]\n",
    "print(\"Similarity comparison\\n\")\n",
    "for w1, w2 in pairs:\n",
    "    print('%r\\t%r\\t%.2f' % (w1, w2, model.wv.similarity(w1, w2)))"
   ]
  },
  {
   "cell_type": "code",
   "execution_count": 89,
   "metadata": {},
   "outputs": [
    {
     "name": "stdout",
     "output_type": "stream",
     "text": [
      "[('Urban Outfitters', 0.98850417137146), ('Hasty Market Corp', 0.9835630059242249), ('Circle K', 0.9710732102394104)]\n"
     ]
    }
   ],
   "source": [
    "# find out most similar terms\n",
    "print(model.wv.most_similar(positive=['Amazon'], topn=3))"
   ]
  },
  {
   "cell_type": "code",
   "execution_count": null,
   "metadata": {},
   "outputs": [],
   "source": [
    "# visualize all words with labels from SIC\n"
   ]
  }
 ],
 "metadata": {
  "kernelspec": {
   "display_name": "Python 3",
   "language": "python",
   "name": "python3"
  },
  "language_info": {
   "codemirror_mode": {
    "name": "ipython",
    "version": 3
   },
   "file_extension": ".py",
   "mimetype": "text/x-python",
   "name": "python",
   "nbconvert_exporter": "python",
   "pygments_lexer": "ipython3",
   "version": "3.7.6"
  }
 },
 "nbformat": 4,
 "nbformat_minor": 4
}
