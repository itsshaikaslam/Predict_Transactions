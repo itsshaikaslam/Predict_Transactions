{
 "cells": [
  {
   "cell_type": "code",
   "execution_count": 1,
   "metadata": {},
   "outputs": [],
   "source": [
    "import pandas as pd\n",
    "import numpy as np\n",
    "import seaborn as sns\n",
    "import matplotlib.pyplot as plt \n",
    "%matplotlib inline"
   ]
  },
  {
   "cell_type": "code",
   "execution_count": 2,
   "metadata": {},
   "outputs": [],
   "source": [
    "# view counts and percentage for each column's elements\n",
    "def view_column_counts(df, col_name):\n",
    "    df_pivot = df.groupby(by = col_name).size().reset_index(name='Counts')\n",
    "    df_pivot['Per (%)'] = (df_pivot['Counts'])/df.shape[0]*100\n",
    "    df_pivot.sort_values(by = 'Counts',ascending = False,inplace = True)\n",
    "    return df_pivot"
   ]
  },
  {
   "cell_type": "code",
   "execution_count": 3,
   "metadata": {},
   "outputs": [
    {
     "name": "stderr",
     "output_type": "stream",
     "text": [
      "d:\\anaconda3\\lib\\site-packages\\IPython\\core\\interactiveshell.py:3063: DtypeWarning: Columns (3) have mixed types. Specify dtype option on import or set low_memory=False.\n",
      "  interactivity=interactivity, compiler=compiler, result=result)\n"
     ]
    }
   ],
   "source": [
    "# load original data and pre-processing\n",
    "df = pd.read_csv('data/cc_data.csv')\n",
    "\n",
    "# remove unnecessary columns\n",
    "col2remove = ['SIC Code', 'Return Amount', 'Reward Amount', 'Transaction ID', \n",
    "              'Account Identifier', 'Account Name', 'Account Number', 'Bank Name', \n",
    "              'Aggregator Name', 'Consumer ID', 'Consumer Created Date',\n",
    "              'Transaction String', 'Posted Date', 'Data Creation Date', \n",
    "              'Consumer Postal Code', 'Consumer City Name','Ethnicity']\n",
    "df.drop(col2remove, axis = 1, inplace = True, errors='ignore') \n",
    "\n",
    "# Only keep `purchase` rows for `Transaction Type`, and then remove `Trsansaction Type`\n",
    "if 'Transaction Type' in df.columns:\n",
    "    df = df[df['Transaction Type'] == 'purchase']\n",
    "    df.drop('Transaction Type', axis = 1, inplace = True)\n",
    "    \n",
    "# calculate consumer age, any birth year after 2020 is converted to null, and then remove `Consumer Birth Year` column\n",
    "if 'Consumer Birth Year' in df.columns:\n",
    "    df['Age'] = df['Consumer Birth Year'].apply(lambda x: 2020 - int(x) if int(x) < 2020 else None)\n",
    "    df.drop('Consumer Birth Year', axis = 1, inplace = True)\n",
    "    \n",
    "# convert `N\\A` in `Transation date` into null\n",
    "df['Transaction Date'].replace({\"N\\A\":None}, inplace=True)\n",
    "# convert `both` in `Consumer Gender` into null, only keep male and female\n",
    "df['Consumer Gender'].replace({'both':None}, inplace=True)\n",
    "# convert `investment_account` and `loans` in `Account Type` into null, only keep bank_account and credit_card\n",
    "df['Account Type'].replace({'investment_account':None,'loans':None},inplace=True)\n",
    "# remove missing values above\n",
    "df.dropna(inplace = True)\n",
    "\n",
    "# 'SIC Description' (114) - only keep top N and group the rest into `other`\n",
    "N = 9\n",
    "df_pivot = view_column_counts(df,'SIC Description')\n",
    "list2keep = list(df_pivot.nlargest(N, 'Counts')['SIC Description'])\n",
    "df['SIC Description'] = df['SIC Description'].apply(lambda x: x if x in list2keep else 'Other')\n",
    "#df_pivot.head(N+1)"
   ]
  },
  {
   "cell_type": "code",
   "execution_count": 4,
   "metadata": {},
   "outputs": [
    {
     "data": {
      "text/html": [
       "<div>\n",
       "<style scoped>\n",
       "    .dataframe tbody tr th:only-of-type {\n",
       "        vertical-align: middle;\n",
       "    }\n",
       "\n",
       "    .dataframe tbody tr th {\n",
       "        vertical-align: top;\n",
       "    }\n",
       "\n",
       "    .dataframe thead th {\n",
       "        text-align: right;\n",
       "    }\n",
       "</style>\n",
       "<table border=\"1\" class=\"dataframe\">\n",
       "  <thead>\n",
       "    <tr style=\"text-align: right;\">\n",
       "      <th></th>\n",
       "      <th>Account Type</th>\n",
       "      <th>Consumer Gender</th>\n",
       "      <th>Normalized Retailer</th>\n",
       "      <th>SIC Description</th>\n",
       "      <th>Purchase Amount</th>\n",
       "      <th>Transaction Date</th>\n",
       "      <th>Age</th>\n",
       "    </tr>\n",
       "  </thead>\n",
       "  <tbody>\n",
       "    <tr>\n",
       "      <th>0</th>\n",
       "      <td>credit_card</td>\n",
       "      <td>male</td>\n",
       "      <td>Red Robin</td>\n",
       "      <td>Eating Places</td>\n",
       "      <td>15.52</td>\n",
       "      <td>2019-07-01</td>\n",
       "      <td>22.0</td>\n",
       "    </tr>\n",
       "    <tr>\n",
       "      <th>1</th>\n",
       "      <td>bank_account</td>\n",
       "      <td>male</td>\n",
       "      <td>California Thai</td>\n",
       "      <td>Eating Places</td>\n",
       "      <td>11.29</td>\n",
       "      <td>2019-09-30</td>\n",
       "      <td>30.0</td>\n",
       "    </tr>\n",
       "    <tr>\n",
       "      <th>2</th>\n",
       "      <td>credit_card</td>\n",
       "      <td>male</td>\n",
       "      <td>Petro-Canada</td>\n",
       "      <td>Gasoline Service Stations</td>\n",
       "      <td>10.78</td>\n",
       "      <td>2019-06-24</td>\n",
       "      <td>34.0</td>\n",
       "    </tr>\n",
       "    <tr>\n",
       "      <th>3</th>\n",
       "      <td>bank_account</td>\n",
       "      <td>female</td>\n",
       "      <td>The Beer Store</td>\n",
       "      <td>Other</td>\n",
       "      <td>88.90</td>\n",
       "      <td>2018-10-01</td>\n",
       "      <td>43.0</td>\n",
       "    </tr>\n",
       "    <tr>\n",
       "      <th>4</th>\n",
       "      <td>bank_account</td>\n",
       "      <td>male</td>\n",
       "      <td>Intermarche</td>\n",
       "      <td>Grocery Stores</td>\n",
       "      <td>23.54</td>\n",
       "      <td>2019-12-01</td>\n",
       "      <td>62.0</td>\n",
       "    </tr>\n",
       "  </tbody>\n",
       "</table>\n",
       "</div>"
      ],
      "text/plain": [
       "   Account Type Consumer Gender Normalized Retailer  \\\n",
       "0   credit_card            male           Red Robin   \n",
       "1  bank_account            male     California Thai   \n",
       "2   credit_card            male        Petro-Canada   \n",
       "3  bank_account          female      The Beer Store   \n",
       "4  bank_account            male         Intermarche   \n",
       "\n",
       "             SIC Description  Purchase Amount Transaction Date   Age  \n",
       "0              Eating Places            15.52       2019-07-01  22.0  \n",
       "1              Eating Places            11.29       2019-09-30  30.0  \n",
       "2  Gasoline Service Stations            10.78       2019-06-24  34.0  \n",
       "3                      Other            88.90       2018-10-01  43.0  \n",
       "4             Grocery Stores            23.54       2019-12-01  62.0  "
      ]
     },
     "execution_count": 4,
     "metadata": {},
     "output_type": "execute_result"
    }
   ],
   "source": [
    "df.head()"
   ]
  },
  {
   "cell_type": "code",
   "execution_count": 5,
   "metadata": {},
   "outputs": [
    {
     "data": {
      "image/png": "[encoded data removed]",
      "text/plain": [
       "<Figure size 432x288 with 1 Axes>"
      ]
     },
     "metadata": {
      "needs_background": "light"
     },
     "output_type": "display_data"
    }
   ],
   "source": [
    "# ago histogram\n",
    "sns.distplot(df['Age']);"
   ]
  },
  {
   "cell_type": "code",
   "execution_count": 6,
   "metadata": {},
   "outputs": [
    {
     "name": "stdout",
     "output_type": "stream",
     "text": [
      "Account Type\n",
      "   Account Type   Counts    Per (%)\n",
      "0  bank_account  1878636  53.839509\n",
      "1   credit_card  1610690  46.160491\n",
      "\n",
      "\n",
      "Consumer Gender\n",
      "  Consumer Gender   Counts    Per (%)\n",
      "0          female  1949501  55.870417\n",
      "1            male  1539825  44.129583\n",
      "\n",
      "\n",
      "Normalized Retailer\n",
      "         Normalized Retailer  Counts    Per (%)\n",
      "2194             Tim Hortons  412788  11.830021\n",
      "1361              McDonald's  212414   6.087537\n",
      "2346                 Walmart  186174   5.335529\n",
      "50                    Amazon  161985   4.642301\n",
      "1930      Shoppers Drug Mart  106277   3.045774\n",
      "...                      ...     ...        ...\n",
      "1562  PITT MEADOWS GOLF CLUB       1   0.000029\n",
      "2301          Village Bagels       1   0.000029\n",
      "1561    PINEVIEW GOLF COURSE       1   0.000029\n",
      "731                  Flipkey       1   0.000029\n",
      "804   GRANITE SPRINGS GOLF C       1   0.000029\n",
      "\n",
      "[2441 rows x 3 columns]\n",
      "\n",
      "\n",
      "SIC Description\n",
      "                                     SIC Description   Counts    Per (%)\n",
      "3                                      Eating Places  1079719  30.943483\n",
      "6                                     Grocery Stores   700055  20.062757\n",
      "8                                              Other   666299  19.095350\n",
      "5                          Gasoline Service Stations   362355  10.384670\n",
      "0                                        Book Stores   178121   5.104739\n",
      "2                 Drug Stores and Proprietary Stores   169485   4.857242\n",
      "7                          Miscellaneous Food Stores   103502   2.966246\n",
      "4                             Family Clothing Stores    91817   2.631368\n",
      "9                                           Taxicabs    74594   2.137777\n",
      "1  Communications Services, Not Elsewhere Classified    63379   1.816368\n",
      "\n",
      "\n"
     ]
    }
   ],
   "source": [
    "# gender, account type, sector and retailer percentage\n",
    "text_col_list = ['Account Type', 'Consumer Gender','Normalized Retailer', 'SIC Description']\n",
    "\n",
    "for col_name in text_col_list:   \n",
    "    print(col_name)\n",
    "    print(view_column_counts(df,col_name))\n",
    "    print('\\n')"
   ]
  },
  {
   "cell_type": "code",
   "execution_count": 7,
   "metadata": {},
   "outputs": [],
   "source": [
    "# view purchase amounts for each column's elements\n",
    "def view_column_purchase(df, col_name):\n",
    "    df_pivot = df.groupby(by = col_name)['Purchase Amount'].apply(list).reset_index(name = 'Purchase List')\n",
    "    df_pivot['Counts'] = df_pivot['Purchase List'].apply(len)\n",
    "    df_pivot.sort_values(by = 'Counts',ascending = False,inplace = True)  \n",
    "    return df_pivot"
   ]
  },
  {
   "cell_type": "code",
   "execution_count": 8,
   "metadata": {},
   "outputs": [
    {
     "name": "stdout",
     "output_type": "stream",
     "text": [
      "Top sectors:  ['Eating Places', 'Grocery Stores', 'Other', 'Gasoline Service Stations', 'Book Stores']\n"
     ]
    },
    {
     "data": {
      "text/html": [
       "<div>\n",
       "<style scoped>\n",
       "    .dataframe tbody tr th:only-of-type {\n",
       "        vertical-align: middle;\n",
       "    }\n",
       "\n",
       "    .dataframe tbody tr th {\n",
       "        vertical-align: top;\n",
       "    }\n",
       "\n",
       "    .dataframe thead th {\n",
       "        text-align: right;\n",
       "    }\n",
       "</style>\n",
       "<table border=\"1\" class=\"dataframe\">\n",
       "  <thead>\n",
       "    <tr style=\"text-align: right;\">\n",
       "      <th></th>\n",
       "      <th>SIC Description</th>\n",
       "      <th>Purchase List</th>\n",
       "      <th>Counts</th>\n",
       "    </tr>\n",
       "  </thead>\n",
       "  <tbody>\n",
       "    <tr>\n",
       "      <th>3</th>\n",
       "      <td>Eating Places</td>\n",
       "      <td>[15.52, 11.29, 19.87, 10.07, 2.2, 6.89, 14.88,...</td>\n",
       "      <td>1079719</td>\n",
       "    </tr>\n",
       "    <tr>\n",
       "      <th>6</th>\n",
       "      <td>Grocery Stores</td>\n",
       "      <td>[23.54, 10.05, 4.05, 105.7, 146.73, 62.73, 41....</td>\n",
       "      <td>700055</td>\n",
       "    </tr>\n",
       "    <tr>\n",
       "      <th>8</th>\n",
       "      <td>Other</td>\n",
       "      <td>[88.9, 102.23, 43.89, 30.49, 10.03, 36.05, 583...</td>\n",
       "      <td>666299</td>\n",
       "    </tr>\n",
       "    <tr>\n",
       "      <th>5</th>\n",
       "      <td>Gasoline Service Stations</td>\n",
       "      <td>[10.78, 34.19, 55.5, 20.0, 100.0, 20.0, 33.45,...</td>\n",
       "      <td>362355</td>\n",
       "    </tr>\n",
       "    <tr>\n",
       "      <th>0</th>\n",
       "      <td>Book Stores</td>\n",
       "      <td>[24.8, 4.55, 154.16, 23.3, 14.15, 18.97, 203.3...</td>\n",
       "      <td>178121</td>\n",
       "    </tr>\n",
       "  </tbody>\n",
       "</table>\n",
       "</div>"
      ],
      "text/plain": [
       "             SIC Description  \\\n",
       "3              Eating Places   \n",
       "6             Grocery Stores   \n",
       "8                      Other   \n",
       "5  Gasoline Service Stations   \n",
       "0                Book Stores   \n",
       "\n",
       "                                       Purchase List   Counts  \n",
       "3  [15.52, 11.29, 19.87, 10.07, 2.2, 6.89, 14.88,...  1079719  \n",
       "6  [23.54, 10.05, 4.05, 105.7, 146.73, 62.73, 41....   700055  \n",
       "8  [88.9, 102.23, 43.89, 30.49, 10.03, 36.05, 583...   666299  \n",
       "5  [10.78, 34.19, 55.5, 20.0, 100.0, 20.0, 33.45,...   362355  \n",
       "0  [24.8, 4.55, 154.16, 23.3, 14.15, 18.97, 203.3...   178121  "
      ]
     },
     "execution_count": 8,
     "metadata": {},
     "output_type": "execute_result"
    }
   ],
   "source": [
    "df_sector = view_column_purchase(df, 'SIC Description')\n",
    "print(\"Top sectors: \", list(df_sector.nlargest(5, 'Counts')['SIC Description']))\n",
    "df_sector.head()"
   ]
  },
  {
   "cell_type": "code",
   "execution_count": 9,
   "metadata": {},
   "outputs": [
    {
     "name": "stdout",
     "output_type": "stream",
     "text": [
      "Top retailers:  ['Tim Hortons', \"McDonald's\", 'Walmart', 'Amazon', 'Shoppers Drug Mart']\n"
     ]
    },
    {
     "data": {
      "text/html": [
       "<div>\n",
       "<style scoped>\n",
       "    .dataframe tbody tr th:only-of-type {\n",
       "        vertical-align: middle;\n",
       "    }\n",
       "\n",
       "    .dataframe tbody tr th {\n",
       "        vertical-align: top;\n",
       "    }\n",
       "\n",
       "    .dataframe thead th {\n",
       "        text-align: right;\n",
       "    }\n",
       "</style>\n",
       "<table border=\"1\" class=\"dataframe\">\n",
       "  <thead>\n",
       "    <tr style=\"text-align: right;\">\n",
       "      <th></th>\n",
       "      <th>Normalized Retailer</th>\n",
       "      <th>Purchase List</th>\n",
       "      <th>Counts</th>\n",
       "    </tr>\n",
       "  </thead>\n",
       "  <tbody>\n",
       "    <tr>\n",
       "      <th>2194</th>\n",
       "      <td>Tim Hortons</td>\n",
       "      <td>[2.2, 4.18, 1.94, 3.21, 2.27, 5.17, 2.29, 9.66...</td>\n",
       "      <td>412788</td>\n",
       "    </tr>\n",
       "    <tr>\n",
       "      <th>1361</th>\n",
       "      <td>McDonald's</td>\n",
       "      <td>[10.0, 5.64, 1.13, 23.59, 8.22, 5.07, 6.53, 2....</td>\n",
       "      <td>212414</td>\n",
       "    </tr>\n",
       "    <tr>\n",
       "      <th>2346</th>\n",
       "      <td>Walmart</td>\n",
       "      <td>[146.73, 24.4, 13.33, 88.73, 14.64, 3.96, 111....</td>\n",
       "      <td>186174</td>\n",
       "    </tr>\n",
       "    <tr>\n",
       "      <th>50</th>\n",
       "      <td>Amazon</td>\n",
       "      <td>[24.8, 4.55, 23.3, 14.15, 18.97, 203.39, 22.59...</td>\n",
       "      <td>161985</td>\n",
       "    </tr>\n",
       "    <tr>\n",
       "      <th>1930</th>\n",
       "      <td>Shoppers Drug Mart</td>\n",
       "      <td>[91.24, 61.19, 5.52, 34.82, 8.76, 11.73, 5.65,...</td>\n",
       "      <td>106277</td>\n",
       "    </tr>\n",
       "  </tbody>\n",
       "</table>\n",
       "</div>"
      ],
      "text/plain": [
       "     Normalized Retailer                                      Purchase List  \\\n",
       "2194         Tim Hortons  [2.2, 4.18, 1.94, 3.21, 2.27, 5.17, 2.29, 9.66...   \n",
       "1361          McDonald's  [10.0, 5.64, 1.13, 23.59, 8.22, 5.07, 6.53, 2....   \n",
       "2346             Walmart  [146.73, 24.4, 13.33, 88.73, 14.64, 3.96, 111....   \n",
       "50                Amazon  [24.8, 4.55, 23.3, 14.15, 18.97, 203.39, 22.59...   \n",
       "1930  Shoppers Drug Mart  [91.24, 61.19, 5.52, 34.82, 8.76, 11.73, 5.65,...   \n",
       "\n",
       "      Counts  \n",
       "2194  412788  \n",
       "1361  212414  \n",
       "2346  186174  \n",
       "50    161985  \n",
       "1930  106277  "
      ]
     },
     "execution_count": 9,
     "metadata": {},
     "output_type": "execute_result"
    }
   ],
   "source": [
    "df_retailer = view_column_purchase(df, 'Normalized Retailer')\n",
    "print(\"Top retailers: \", list(df_retailer.nlargest(5, 'Counts')['Normalized Retailer']))\n",
    "df_retailer.head()"
   ]
  }
 ],
 "metadata": {
  "kernelspec": {
   "display_name": "Python 3",
   "language": "python",
   "name": "python3"
  },
  "language_info": {
   "codemirror_mode": {
    "name": "ipython",
    "version": 3
   },
   "file_extension": ".py",
   "mimetype": "text/x-python",
   "name": "python",
   "nbconvert_exporter": "python",
   "pygments_lexer": "ipython3",
   "version": "3.7.6"
  }
 },
 "nbformat": 4,
 "nbformat_minor": 4
}
