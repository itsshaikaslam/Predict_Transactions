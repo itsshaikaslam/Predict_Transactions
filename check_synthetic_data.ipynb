{
 "cells": [
  {
   "cell_type": "code",
   "execution_count": 1,
   "metadata": {},
   "outputs": [],
   "source": [
    "import pandas as pd\n",
    "import numpy as np\n",
    "import seaborn as sns\n",
    "import matplotlib.pyplot as plt \n",
    "%matplotlib inline\n",
    "import pickle\n",
    "import torch\n",
    "import io"
   ]
  },
  {
   "cell_type": "code",
   "execution_count": 2,
   "metadata": {},
   "outputs": [],
   "source": [
    "# function to work around loading a GPU generated pickle on local CPU machine\n",
    "class CPU_Unpickler(pickle.Unpickler):\n",
    "    def find_class(self, module, name):\n",
    "        if module == 'torch.storage' and name == '_load_from_bytes':\n",
    "            return lambda b: torch.load(io.BytesIO(b), map_location='cpu')\n",
    "        else: return super().find_class(module, name)"
   ]
  },
  {
   "cell_type": "code",
   "execution_count": 3,
   "metadata": {},
   "outputs": [],
   "source": [
    "# load synthesizer from saved object\n",
    "with open('models/TVAE_synthesizer_1.pkl', 'rb') as input:\n",
    "    synthesizer = CPU_Unpickler(input).load()\n",
    "\n",
    "# modify device from cuda:0 to cpu\n",
    "synthesizer.device = 'cpu'"
   ]
  },
  {
   "cell_type": "code",
   "execution_count": 4,
   "metadata": {},
   "outputs": [
    {
     "name": "stdout",
     "output_type": "stream",
     "text": [
      "[[ 8.02 30.    1.    0.    1.    0.    0.    0.    0.    1.    0.    0.\n",
      "   0.    0.    0.    0.    0.    0.    0.    0.    0.    0.    0.    0.\n",
      "   0.    0.    0.2  -0.59 -0.25 -0.62 -0.64  0.22 -0.08  0.06  0.36  0.32\n",
      "   0.54  0.41  0.4  -0.69 -0.33 -0.2   1.23  0.53 -0.72  0.68]\n",
      " [ 7.91 28.    0.    1.    0.    1.    0.    0.    0.    0.    0.    0.\n",
      "   0.    0.    1.    0.    0.    0.    0.    0.    0.    0.    0.    0.\n",
      "   0.    0.    0.46 -1.03 -0.05 -0.5   0.36  0.9  -0.46 -0.07 -2.1   0.12\n",
      "  -0.44  0.6   0.54 -2.4  -0.57  0.06  1.54  1.63 -1.81  1.29]\n",
      " [12.57 36.    1.    0.    1.    0.    0.    0.    0.    0.    0.    0.\n",
      "   0.    0.    1.    0.    0.    0.    0.    0.    0.    0.    0.    0.\n",
      "   0.    0.   -0.2   1.11  1.   -0.89  1.06 -1.5   0.62 -0.11 -1.45  0.76\n",
      "  -0.41  1.17 -0.6  -0.8  -0.41  1.14  0.84  0.6  -1.72 -0.47]\n",
      " [87.22 34.    0.    1.    0.    1.    0.    0.    0.    0.    0.    0.\n",
      "   1.    0.    0.    0.    0.    0.    0.    0.    0.    0.    0.    0.\n",
      "   0.    0.   -0.21 -0.85  0.26 -0.96  0.35  0.69  0.2  -0.18 -0.95 -0.85\n",
      "  -0.56  0.28 -0.1   0.   -0.95  0.66  1.07 -0.36 -1.87  0.29]\n",
      " [50.73 30.    0.    1.    1.    0.    0.    0.    0.    0.    0.    0.\n",
      "   1.    0.    0.    0.    0.    0.    0.    0.    0.    0.    0.    0.\n",
      "   0.    0.   -0.68 -0.38  0.26 -1.11  0.34  0.49  0.2  -0.21 -1.07 -0.89\n",
      "  -0.51 -0.59 -0.05 -0.41  0.75  0.72  1.   -0.41 -1.27  0.48]\n",
      " [-1.01 30.    1.    0.    0.    1.    0.    0.    0.    0.    0.    0.\n",
      "   0.    0.    0.    0.    0.    0.    0.    0.    0.    0.    0.    0.\n",
      "   0.    0.   -0.73 -0.47  0.14 -0.83  0.51  0.62 -0.61  0.01 -2.63  0.99\n",
      "   0.67  0.47  0.66 -3.37 -2.17  1.88  2.56 -0.11 -2.87 -0.23]\n",
      " [21.56 36.    0.    1.    1.    0.    0.    0.    0.    0.    0.    0.\n",
      "   1.    0.    0.    0.    0.    0.    0.    0.    0.    0.    0.    0.\n",
      "   0.    0.   -0.57 -0.34  0.01 -1.    0.66  0.45  0.17  0.49 -1.16  0.83\n",
      "  -0.27  0.69 -0.04 -0.15 -0.02  0.22  0.76  0.06 -1.21  0.77]\n",
      " [ 4.71 29.    1.    0.    1.    0.    0.    0.    0.    1.    0.    0.\n",
      "   0.    0.    0.    0.    0.    0.    0.    0.    0.    0.    0.    0.\n",
      "   0.    0.    0.54 -0.37 -0.03  0.09 -0.1   0.69 -0.33 -0.09 -1.24  0.15\n",
      "   0.04  0.57  0.74 -0.73 -0.08  0.2   0.5   0.59 -0.66  0.33]\n",
      " [17.28 28.    1.    0.    1.    0.    0.    0.    0.    0.    0.    1.\n",
      "   0.    0.    0.    0.    0.    0.    0.    0.    0.    0.    0.    0.\n",
      "   0.    0.   -0.76 -0.39  0.17 -0.45  1.12  2.37  0.45 -0.23 -0.67  1.52\n",
      "   0.01 -0.58 -2.48 -0.72 -1.29  0.8   0.9   0.63 -2.24 -1.41]\n",
      " [15.89 30.    0.    1.    0.    1.    0.    0.    0.    0.    0.    0.\n",
      "   1.    0.    0.    0.    0.    0.    0.    0.    0.    0.    0.    0.\n",
      "   0.    0.    0.5  -0.91  0.08 -1.03  2.52 -0.67  0.96  0.39 -0.97 -0.79\n",
      "  -0.91  0.2  -0.09  0.1   0.72  0.77  1.16  0.09 -2.04 -0.73]]\n"
     ]
    }
   ],
   "source": [
    "# check out sample\n",
    "sampled = synthesizer.sample(10)\n",
    "np.set_printoptions(suppress = True, precision = 2)\n",
    "print(sampled)"
   ]
  }
 ],
 "metadata": {
  "kernelspec": {
   "display_name": "Python 3",
   "language": "python",
   "name": "python3"
  },
  "language_info": {
   "codemirror_mode": {
    "name": "ipython",
    "version": 3
   },
   "file_extension": ".py",
   "mimetype": "text/x-python",
   "name": "python",
   "nbconvert_exporter": "python",
   "pygments_lexer": "ipython3",
   "version": "3.7.6"
  }
 },
 "nbformat": 4,
 "nbformat_minor": 4
}
