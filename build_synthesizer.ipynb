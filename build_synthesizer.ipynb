{
 "cells": [
  {
   "cell_type": "code",
   "execution_count": 1,
   "metadata": {},
   "outputs": [],
   "source": [
    "import pandas as pd\n",
    "import numpy as np\n",
    "from gensim.models import Word2Vec\n",
    "from gensim.models import KeyedVectors\n",
    "from sdgym.synthesizers import TVAESynthesizer"
   ]
  },
  {
   "cell_type": "code",
   "execution_count": 2,
   "metadata": {},
   "outputs": [
    {
     "name": "stderr",
     "output_type": "stream",
     "text": [
      "d:\\anaconda3\\lib\\site-packages\\IPython\\core\\interactiveshell.py:3063: DtypeWarning: Columns (3) have mixed types. Specify dtype option on import or set low_memory=False.\n",
      "  interactivity=interactivity, compiler=compiler, result=result)\n"
     ]
    }
   ],
   "source": [
    "# load data\n",
    "df = pd.read_csv('data/cc_data.csv')\n",
    "df = df[:1000]"
   ]
  },
  {
   "cell_type": "code",
   "execution_count": 3,
   "metadata": {},
   "outputs": [],
   "source": [
    "# remove unnecessary columns\n",
    "col2remove = ['SIC Code', 'Return Amount', 'Reward Amount', 'Transaction ID', \n",
    "              'Account Identifier', 'Account Name', 'Account Number', 'Bank Name', \n",
    "              'Aggregator Name', 'Consumer ID', 'Consumer Created Date',\n",
    "              'Transaction String', 'Posted Date', 'Data Creation Date', \n",
    "              'Consumer Postal Code', 'Consumer City Name','Ethnicity']\n",
    "df.drop(col2remove, axis = 1, inplace = True, errors='ignore') # errors option make the columns drop only when exists"
   ]
  },
  {
   "cell_type": "code",
   "execution_count": 4,
   "metadata": {},
   "outputs": [
    {
     "name": "stdout",
     "output_type": "stream",
     "text": [
      "Row # of the table: 1000\n"
     ]
    },
    {
     "data": {
      "text/plain": [
       "['Account Type',\n",
       " 'Consumer Gender',\n",
       " 'Consumer Birth Year',\n",
       " 'Transaction Type',\n",
       " 'Normalized Retailer',\n",
       " 'SIC Description',\n",
       " 'Purchase Amount',\n",
       " 'Transaction Date']"
      ]
     },
     "execution_count": 4,
     "metadata": {},
     "output_type": "execute_result"
    }
   ],
   "source": [
    "print(\"Row # of the table: %d\" % len(df.index))\n",
    "list(df.columns)"
   ]
  },
  {
   "cell_type": "code",
   "execution_count": 5,
   "metadata": {},
   "outputs": [
    {
     "name": "stdout",
     "output_type": "stream",
     "text": [
      "Row # of the table: 975\n"
     ]
    },
    {
     "data": {
      "text/plain": [
       "['Account Type',\n",
       " 'Consumer Gender',\n",
       " 'Consumer Birth Year',\n",
       " 'Normalized Retailer',\n",
       " 'SIC Description',\n",
       " 'Purchase Amount',\n",
       " 'Transaction Date']"
      ]
     },
     "execution_count": 5,
     "metadata": {},
     "output_type": "execute_result"
    }
   ],
   "source": [
    "# Only keep `purchase` rows for `Transaction Type`, and then remove `Trsansaction Type`\n",
    "if 'Transaction Type' in df.columns:\n",
    "    df = df[df['Transaction Type'] == 'purchase']\n",
    "    df.drop('Transaction Type', axis = 1, inplace = True)\n",
    "print(\"Row # of the table: %d\" % len(df.index))\n",
    "list(df.columns)"
   ]
  },
  {
   "cell_type": "code",
   "execution_count": 6,
   "metadata": {},
   "outputs": [
    {
     "name": "stdout",
     "output_type": "stream",
     "text": [
      "Row # of the table: 975\n"
     ]
    },
    {
     "data": {
      "text/plain": [
       "['Account Type',\n",
       " 'Consumer Gender',\n",
       " 'Normalized Retailer',\n",
       " 'SIC Description',\n",
       " 'Purchase Amount',\n",
       " 'Transaction Date',\n",
       " 'Age']"
      ]
     },
     "execution_count": 6,
     "metadata": {},
     "output_type": "execute_result"
    }
   ],
   "source": [
    "# calculate consumer age, any birth year after 2020 is converted to null, and then remove `Consumer Birth Year` column\n",
    "if 'Consumer Birth Year' in df.columns:\n",
    "    df['Age'] = df['Consumer Birth Year'].apply(lambda x: 2020 - int(x) if int(x) < 2020 else None)\n",
    "    df.drop('Consumer Birth Year', axis = 1, inplace = True)\n",
    "print(\"Row # of the table: %d\" % len(df.index))\n",
    "list(df.columns)  "
   ]
  },
  {
   "cell_type": "code",
   "execution_count": 7,
   "metadata": {},
   "outputs": [],
   "source": [
    "# convert `N\\A` in `Transation date` into null\n",
    "df['Transaction Date'].replace({\"N\\A\":None}, inplace=True)\n",
    "# convert `both` in `Consumer Gender` into null, only keep male and female\n",
    "df['Consumer Gender'].replace({'both':None}, inplace=True)\n",
    "# convert `investment_account` and `loans` in `Account Type` into null, only keep bank_account and credit_card\n",
    "df['Account Type'].replace({'investment_account':None,'loans':None},inplace=True)"
   ]
  },
  {
   "cell_type": "code",
   "execution_count": 8,
   "metadata": {},
   "outputs": [
    {
     "data": {
      "text/html": [
       "<div>\n",
       "<style scoped>\n",
       "    .dataframe tbody tr th:only-of-type {\n",
       "        vertical-align: middle;\n",
       "    }\n",
       "\n",
       "    .dataframe tbody tr th {\n",
       "        vertical-align: top;\n",
       "    }\n",
       "\n",
       "    .dataframe thead th {\n",
       "        text-align: right;\n",
       "    }\n",
       "</style>\n",
       "<table border=\"1\" class=\"dataframe\">\n",
       "  <thead>\n",
       "    <tr style=\"text-align: right;\">\n",
       "      <th></th>\n",
       "      <th>variable</th>\n",
       "      <th>missing counts</th>\n",
       "      <th>missing per (%)</th>\n",
       "    </tr>\n",
       "  </thead>\n",
       "  <tbody>\n",
       "    <tr>\n",
       "      <th>0</th>\n",
       "      <td>Consumer Gender</td>\n",
       "      <td>5</td>\n",
       "      <td>0.512821</td>\n",
       "    </tr>\n",
       "    <tr>\n",
       "      <th>1</th>\n",
       "      <td>Age</td>\n",
       "      <td>3</td>\n",
       "      <td>0.307692</td>\n",
       "    </tr>\n",
       "    <tr>\n",
       "      <th>2</th>\n",
       "      <td>Transaction Date</td>\n",
       "      <td>2</td>\n",
       "      <td>0.205128</td>\n",
       "    </tr>\n",
       "    <tr>\n",
       "      <th>3</th>\n",
       "      <td>Account Type</td>\n",
       "      <td>0</td>\n",
       "      <td>0.000000</td>\n",
       "    </tr>\n",
       "    <tr>\n",
       "      <th>4</th>\n",
       "      <td>Normalized Retailer</td>\n",
       "      <td>0</td>\n",
       "      <td>0.000000</td>\n",
       "    </tr>\n",
       "    <tr>\n",
       "      <th>5</th>\n",
       "      <td>SIC Description</td>\n",
       "      <td>0</td>\n",
       "      <td>0.000000</td>\n",
       "    </tr>\n",
       "    <tr>\n",
       "      <th>6</th>\n",
       "      <td>Purchase Amount</td>\n",
       "      <td>0</td>\n",
       "      <td>0.000000</td>\n",
       "    </tr>\n",
       "  </tbody>\n",
       "</table>\n",
       "</div>"
      ],
      "text/plain": [
       "              variable  missing counts  missing per (%)\n",
       "0      Consumer Gender               5         0.512821\n",
       "1                  Age               3         0.307692\n",
       "2     Transaction Date               2         0.205128\n",
       "3         Account Type               0         0.000000\n",
       "4  Normalized Retailer               0         0.000000\n",
       "5      SIC Description               0         0.000000\n",
       "6      Purchase Amount               0         0.000000"
      ]
     },
     "execution_count": 8,
     "metadata": {},
     "output_type": "execute_result"
    }
   ],
   "source": [
    "# check missing values \n",
    "missing_df = df.isnull().sum().reset_index()\n",
    "missing_df.columns = ['variable', 'missing counts']\n",
    "missing_df['missing per (%)'] = (missing_df['missing counts'])/df.shape[0]*100\n",
    "missing_df.sort_values('missing per (%)',ascending = False).reset_index(drop = True)"
   ]
  },
  {
   "cell_type": "code",
   "execution_count": 9,
   "metadata": {
    "scrolled": true
   },
   "outputs": [
    {
     "name": "stdout",
     "output_type": "stream",
     "text": [
      "Row # of the table: 965\n"
     ]
    },
    {
     "data": {
      "text/plain": [
       "['Account Type',\n",
       " 'Consumer Gender',\n",
       " 'Normalized Retailer',\n",
       " 'SIC Description',\n",
       " 'Purchase Amount',\n",
       " 'Transaction Date',\n",
       " 'Age']"
      ]
     },
     "execution_count": 9,
     "metadata": {},
     "output_type": "execute_result"
    }
   ],
   "source": [
    "# remove missing values above\n",
    "df.dropna(inplace = True)\n",
    "print(\"Row # of the table: %d\" % len(df.index))\n",
    "list(df.columns)"
   ]
  },
  {
   "cell_type": "code",
   "execution_count": 10,
   "metadata": {},
   "outputs": [],
   "source": [
    "# convert ‘Transaction Date’ into day_of_week (Mon/Tue.) and period_of_month (start, mid and end).\n",
    "if 'Transaction Date' in df.columns:\n",
    "    df['Transaction Date'] = pd.to_datetime(df['Transaction Date'])\n",
    "    df['day_of_week'] = df['Transaction Date'].dt.day_name()\n",
    "    df['day_of_month'] = df['Transaction Date'].dt.day\n",
    "    df['period_of_month'] = df.apply(lambda x: 'start' if x.day_of_month <= 10 else 'mid' if x.day_of_month <=20 else 'end', axis = 1)\n",
    "    df.drop(['Transaction Date','day_of_month'], axis = 1, inplace = True)"
   ]
  },
  {
   "cell_type": "code",
   "execution_count": 11,
   "metadata": {},
   "outputs": [
    {
     "data": {
      "text/html": [
       "<div>\n",
       "<style scoped>\n",
       "    .dataframe tbody tr th:only-of-type {\n",
       "        vertical-align: middle;\n",
       "    }\n",
       "\n",
       "    .dataframe tbody tr th {\n",
       "        vertical-align: top;\n",
       "    }\n",
       "\n",
       "    .dataframe thead th {\n",
       "        text-align: right;\n",
       "    }\n",
       "</style>\n",
       "<table border=\"1\" class=\"dataframe\">\n",
       "  <thead>\n",
       "    <tr style=\"text-align: right;\">\n",
       "      <th></th>\n",
       "      <th>Account Type</th>\n",
       "      <th>Consumer Gender</th>\n",
       "      <th>Normalized Retailer</th>\n",
       "      <th>SIC Description</th>\n",
       "      <th>Purchase Amount</th>\n",
       "      <th>Age</th>\n",
       "      <th>day_of_week</th>\n",
       "      <th>period_of_month</th>\n",
       "    </tr>\n",
       "  </thead>\n",
       "  <tbody>\n",
       "    <tr>\n",
       "      <th>0</th>\n",
       "      <td>credit_card</td>\n",
       "      <td>male</td>\n",
       "      <td>Red Robin</td>\n",
       "      <td>Eating Places</td>\n",
       "      <td>15.52</td>\n",
       "      <td>22.0</td>\n",
       "      <td>Monday</td>\n",
       "      <td>start</td>\n",
       "    </tr>\n",
       "    <tr>\n",
       "      <th>1</th>\n",
       "      <td>bank_account</td>\n",
       "      <td>male</td>\n",
       "      <td>California Thai</td>\n",
       "      <td>Eating Places</td>\n",
       "      <td>11.29</td>\n",
       "      <td>30.0</td>\n",
       "      <td>Monday</td>\n",
       "      <td>end</td>\n",
       "    </tr>\n",
       "    <tr>\n",
       "      <th>2</th>\n",
       "      <td>credit_card</td>\n",
       "      <td>male</td>\n",
       "      <td>Petro-Canada</td>\n",
       "      <td>Gasoline Service Stations</td>\n",
       "      <td>10.78</td>\n",
       "      <td>34.0</td>\n",
       "      <td>Monday</td>\n",
       "      <td>end</td>\n",
       "    </tr>\n",
       "    <tr>\n",
       "      <th>3</th>\n",
       "      <td>bank_account</td>\n",
       "      <td>female</td>\n",
       "      <td>The Beer Store</td>\n",
       "      <td>Liquor Stores</td>\n",
       "      <td>88.90</td>\n",
       "      <td>43.0</td>\n",
       "      <td>Monday</td>\n",
       "      <td>start</td>\n",
       "    </tr>\n",
       "    <tr>\n",
       "      <th>4</th>\n",
       "      <td>bank_account</td>\n",
       "      <td>male</td>\n",
       "      <td>Intermarche</td>\n",
       "      <td>Grocery Stores</td>\n",
       "      <td>23.54</td>\n",
       "      <td>62.0</td>\n",
       "      <td>Sunday</td>\n",
       "      <td>start</td>\n",
       "    </tr>\n",
       "  </tbody>\n",
       "</table>\n",
       "</div>"
      ],
      "text/plain": [
       "   Account Type Consumer Gender Normalized Retailer  \\\n",
       "0   credit_card            male           Red Robin   \n",
       "1  bank_account            male     California Thai   \n",
       "2   credit_card            male        Petro-Canada   \n",
       "3  bank_account          female      The Beer Store   \n",
       "4  bank_account            male         Intermarche   \n",
       "\n",
       "             SIC Description  Purchase Amount   Age day_of_week  \\\n",
       "0              Eating Places            15.52  22.0      Monday   \n",
       "1              Eating Places            11.29  30.0      Monday   \n",
       "2  Gasoline Service Stations            10.78  34.0      Monday   \n",
       "3              Liquor Stores            88.90  43.0      Monday   \n",
       "4             Grocery Stores            23.54  62.0      Sunday   \n",
       "\n",
       "  period_of_month  \n",
       "0           start  \n",
       "1             end  \n",
       "2             end  \n",
       "3           start  \n",
       "4           start  "
      ]
     },
     "execution_count": 11,
     "metadata": {},
     "output_type": "execute_result"
    }
   ],
   "source": [
    "df.head()"
   ]
  },
  {
   "cell_type": "code",
   "execution_count": 12,
   "metadata": {},
   "outputs": [],
   "source": [
    "# function to convert day_of_week and period_of_month back to Date, given a year and a month\n",
    "# year = 2019; month = 7; day_of_week = 'Monday'; period_of_month = 'start'"
   ]
  },
  {
   "cell_type": "code",
   "execution_count": 13,
   "metadata": {},
   "outputs": [
    {
     "name": "stdout",
     "output_type": "stream",
     "text": [
      "SIC to keep:  ['Eating Places', 'Grocery Stores', 'Gasoline Service Stations', 'Drug Stores and Proprietary Stores', 'Book Stores', 'Family Clothing Stores', 'Taxicabs', 'Radiotelephone Communications', 'Communications Services, Not Elsewhere Classified']\n"
     ]
    }
   ],
   "source": [
    "# 'SIC Description' (114) - only keep top N and group the rest into `other`\n",
    "N = 9\n",
    "def viewSICCounts(df):\n",
    "    df_pivot = df.groupby(by = 'SIC Description').size().reset_index(name='Counts')\n",
    "    df_pivot['Per (%)'] = (df_pivot['Counts'])/df.shape[0]*100\n",
    "    df_pivot.sort_values(by = 'Counts',ascending = False,inplace = True)\n",
    "    return df_pivot\n",
    "    \n",
    "df_pivot = viewSICCounts(df)\n",
    "list2keep = list(df_pivot.nlargest(N, 'Counts')['SIC Description'])\n",
    "print(\"SIC to keep: \", list2keep)"
   ]
  },
  {
   "cell_type": "code",
   "execution_count": 14,
   "metadata": {},
   "outputs": [
    {
     "data": {
      "text/html": [
       "<div>\n",
       "<style scoped>\n",
       "    .dataframe tbody tr th:only-of-type {\n",
       "        vertical-align: middle;\n",
       "    }\n",
       "\n",
       "    .dataframe tbody tr th {\n",
       "        vertical-align: top;\n",
       "    }\n",
       "\n",
       "    .dataframe thead th {\n",
       "        text-align: right;\n",
       "    }\n",
       "</style>\n",
       "<table border=\"1\" class=\"dataframe\">\n",
       "  <thead>\n",
       "    <tr style=\"text-align: right;\">\n",
       "      <th></th>\n",
       "      <th>SIC Description</th>\n",
       "      <th>Counts</th>\n",
       "      <th>Per (%)</th>\n",
       "    </tr>\n",
       "  </thead>\n",
       "  <tbody>\n",
       "    <tr>\n",
       "      <th>3</th>\n",
       "      <td>Eating Places</td>\n",
       "      <td>276</td>\n",
       "      <td>28.601036</td>\n",
       "    </tr>\n",
       "    <tr>\n",
       "      <th>7</th>\n",
       "      <td>Other</td>\n",
       "      <td>203</td>\n",
       "      <td>21.036269</td>\n",
       "    </tr>\n",
       "    <tr>\n",
       "      <th>6</th>\n",
       "      <td>Grocery Stores</td>\n",
       "      <td>189</td>\n",
       "      <td>19.585492</td>\n",
       "    </tr>\n",
       "    <tr>\n",
       "      <th>5</th>\n",
       "      <td>Gasoline Service Stations</td>\n",
       "      <td>108</td>\n",
       "      <td>11.191710</td>\n",
       "    </tr>\n",
       "    <tr>\n",
       "      <th>2</th>\n",
       "      <td>Drug Stores and Proprietary Stores</td>\n",
       "      <td>47</td>\n",
       "      <td>4.870466</td>\n",
       "    </tr>\n",
       "    <tr>\n",
       "      <th>0</th>\n",
       "      <td>Book Stores</td>\n",
       "      <td>44</td>\n",
       "      <td>4.559585</td>\n",
       "    </tr>\n",
       "    <tr>\n",
       "      <th>4</th>\n",
       "      <td>Family Clothing Stores</td>\n",
       "      <td>31</td>\n",
       "      <td>3.212435</td>\n",
       "    </tr>\n",
       "    <tr>\n",
       "      <th>9</th>\n",
       "      <td>Taxicabs</td>\n",
       "      <td>24</td>\n",
       "      <td>2.487047</td>\n",
       "    </tr>\n",
       "    <tr>\n",
       "      <th>8</th>\n",
       "      <td>Radiotelephone Communications</td>\n",
       "      <td>22</td>\n",
       "      <td>2.279793</td>\n",
       "    </tr>\n",
       "    <tr>\n",
       "      <th>1</th>\n",
       "      <td>Communications Services, Not Elsewhere Classified</td>\n",
       "      <td>21</td>\n",
       "      <td>2.176166</td>\n",
       "    </tr>\n",
       "  </tbody>\n",
       "</table>\n",
       "</div>"
      ],
      "text/plain": [
       "                                     SIC Description  Counts    Per (%)\n",
       "3                                      Eating Places     276  28.601036\n",
       "7                                              Other     203  21.036269\n",
       "6                                     Grocery Stores     189  19.585492\n",
       "5                          Gasoline Service Stations     108  11.191710\n",
       "2                 Drug Stores and Proprietary Stores      47   4.870466\n",
       "0                                        Book Stores      44   4.559585\n",
       "4                             Family Clothing Stores      31   3.212435\n",
       "9                                           Taxicabs      24   2.487047\n",
       "8                      Radiotelephone Communications      22   2.279793\n",
       "1  Communications Services, Not Elsewhere Classified      21   2.176166"
      ]
     },
     "execution_count": 14,
     "metadata": {},
     "output_type": "execute_result"
    }
   ],
   "source": [
    "df['SIC Description'] = df['SIC Description'].apply(lambda x: x if x in list2keep else 'Other')\n",
    "df_pivot = viewSICCounts(df)\n",
    "df_pivot.head(N+1)"
   ]
  },
  {
   "cell_type": "code",
   "execution_count": 15,
   "metadata": {},
   "outputs": [
    {
     "data": {
      "text/plain": [
       "(965, 20)"
      ]
     },
     "execution_count": 15,
     "metadata": {},
     "output_type": "execute_result"
    }
   ],
   "source": [
    "# 'Normalized Retailer' (2449) - 20 dimensions embedding\n",
    "model = Word2Vec.load('models/perSICperPerson.model')\n",
    "retailerVec = model.wv[df['Normalized Retailer']]\n",
    "retailerVec.shape"
   ]
  }
 ],
 "metadata": {
  "kernelspec": {
   "display_name": "Python 3",
   "language": "python",
   "name": "python3"
  },
  "language_info": {
   "codemirror_mode": {
    "name": "ipython",
    "version": 3
   },
   "file_extension": ".py",
   "mimetype": "text/x-python",
   "name": "python",
   "nbconvert_exporter": "python",
   "pygments_lexer": "ipython3",
   "version": "3.7.6"
  }
 },
 "nbformat": 4,
 "nbformat_minor": 4
}
