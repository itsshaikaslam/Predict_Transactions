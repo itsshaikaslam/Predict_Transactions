{
 "cells": [
  {
   "cell_type": "markdown",
   "metadata": {},
   "source": [
    "This is a test file running on local machine with only 100 records of data. The full dataset is run on Google Colab."
   ]
  },
  {
   "cell_type": "code",
   "execution_count": 1,
   "metadata": {},
   "outputs": [],
   "source": [
    "import pandas as pd\n",
    "import numpy as np\n",
    "from gensim.models import Word2Vec\n",
    "from gensim.models import KeyedVectors\n",
    "from sdgym.synthesizers import TVAESynthesizer\n",
    "import datetime\n",
    "import pickle\n",
    "import random"
   ]
  },
  {
   "cell_type": "code",
   "execution_count": 2,
   "metadata": {},
   "outputs": [
    {
     "name": "stderr",
     "output_type": "stream",
     "text": [
      "d:\\anaconda3\\lib\\site-packages\\IPython\\core\\interactiveshell.py:3063: DtypeWarning: Columns (3) have mixed types. Specify dtype option on import or set low_memory=False.\n",
      "  interactivity=interactivity, compiler=compiler, result=result)\n"
     ]
    }
   ],
   "source": [
    "# load data\n",
    "df = pd.read_csv('data/cc_data.csv')\n",
    "df = df[:100]"
   ]
  },
  {
   "cell_type": "code",
   "execution_count": 3,
   "metadata": {},
   "outputs": [],
   "source": [
    "# remove unnecessary columns\n",
    "col2remove = ['SIC Code', 'Return Amount', 'Reward Amount', 'Transaction ID', \n",
    "              'Account Identifier', 'Account Name', 'Account Number', 'Bank Name', \n",
    "              'Aggregator Name', 'Consumer ID', 'Consumer Created Date',\n",
    "              'Transaction String', 'Posted Date', 'Data Creation Date', \n",
    "              'Consumer Postal Code', 'Consumer City Name','Ethnicity']\n",
    "df.drop(col2remove, axis = 1, inplace = True, errors='ignore') # errors option make the columns drop only when exists"
   ]
  },
  {
   "cell_type": "code",
   "execution_count": 4,
   "metadata": {},
   "outputs": [
    {
     "name": "stdout",
     "output_type": "stream",
     "text": [
      "Row # of the table: 100\n"
     ]
    },
    {
     "data": {
      "text/plain": [
       "['Account Type',\n",
       " 'Consumer Gender',\n",
       " 'Consumer Birth Year',\n",
       " 'Transaction Type',\n",
       " 'Normalized Retailer',\n",
       " 'SIC Description',\n",
       " 'Purchase Amount',\n",
       " 'Transaction Date']"
      ]
     },
     "execution_count": 4,
     "metadata": {},
     "output_type": "execute_result"
    }
   ],
   "source": [
    "print(\"Row # of the table: %d\" % len(df.index))\n",
    "list(df.columns)"
   ]
  },
  {
   "cell_type": "code",
   "execution_count": 5,
   "metadata": {},
   "outputs": [
    {
     "name": "stdout",
     "output_type": "stream",
     "text": [
      "Row # of the table: 95\n"
     ]
    },
    {
     "data": {
      "text/plain": [
       "['Account Type',\n",
       " 'Consumer Gender',\n",
       " 'Consumer Birth Year',\n",
       " 'Normalized Retailer',\n",
       " 'SIC Description',\n",
       " 'Purchase Amount',\n",
       " 'Transaction Date']"
      ]
     },
     "execution_count": 5,
     "metadata": {},
     "output_type": "execute_result"
    }
   ],
   "source": [
    "# Only keep `purchase` rows for `Transaction Type`, and then remove `Trsansaction Type`\n",
    "if 'Transaction Type' in df.columns:\n",
    "    df = df[df['Transaction Type'] == 'purchase']\n",
    "    df.drop('Transaction Type', axis = 1, inplace = True)\n",
    "print(\"Row # of the table: %d\" % len(df.index))\n",
    "list(df.columns)"
   ]
  },
  {
   "cell_type": "code",
   "execution_count": 6,
   "metadata": {},
   "outputs": [
    {
     "name": "stdout",
     "output_type": "stream",
     "text": [
      "Row # of the table: 95\n"
     ]
    },
    {
     "data": {
      "text/plain": [
       "['Account Type',\n",
       " 'Consumer Gender',\n",
       " 'Normalized Retailer',\n",
       " 'SIC Description',\n",
       " 'Purchase Amount',\n",
       " 'Transaction Date',\n",
       " 'Age']"
      ]
     },
     "execution_count": 6,
     "metadata": {},
     "output_type": "execute_result"
    }
   ],
   "source": [
    "# calculate consumer age, any birth year after 2020 is converted to null, and then remove `Consumer Birth Year` column\n",
    "if 'Consumer Birth Year' in df.columns:\n",
    "    df['Age'] = df['Consumer Birth Year'].apply(lambda x: 2020 - int(x) if int(x) < 2020 else None)\n",
    "    df.drop('Consumer Birth Year', axis = 1, inplace = True)\n",
    "print(\"Row # of the table: %d\" % len(df.index))\n",
    "list(df.columns)  "
   ]
  },
  {
   "cell_type": "code",
   "execution_count": 7,
   "metadata": {},
   "outputs": [],
   "source": [
    "# convert `N\\A` in `Transation date` into null\n",
    "df['Transaction Date'].replace({\"N\\A\":None}, inplace=True)\n",
    "# convert `both` in `Consumer Gender` into null, only keep male and female\n",
    "df['Consumer Gender'].replace({'both':None}, inplace=True)\n",
    "# convert `investment_account` and `loans` in `Account Type` into null, only keep bank_account and credit_card\n",
    "df['Account Type'].replace({'investment_account':None,'loans':None},inplace=True)"
   ]
  },
  {
   "cell_type": "code",
   "execution_count": 8,
   "metadata": {},
   "outputs": [
    {
     "data": {
      "text/html": [
       "<div>\n",
       "<style scoped>\n",
       "    .dataframe tbody tr th:only-of-type {\n",
       "        vertical-align: middle;\n",
       "    }\n",
       "\n",
       "    .dataframe tbody tr th {\n",
       "        vertical-align: top;\n",
       "    }\n",
       "\n",
       "    .dataframe thead th {\n",
       "        text-align: right;\n",
       "    }\n",
       "</style>\n",
       "<table border=\"1\" class=\"dataframe\">\n",
       "  <thead>\n",
       "    <tr style=\"text-align: right;\">\n",
       "      <th></th>\n",
       "      <th>variable</th>\n",
       "      <th>missing counts</th>\n",
       "      <th>missing per (%)</th>\n",
       "    </tr>\n",
       "  </thead>\n",
       "  <tbody>\n",
       "    <tr>\n",
       "      <th>0</th>\n",
       "      <td>Consumer Gender</td>\n",
       "      <td>1</td>\n",
       "      <td>1.052632</td>\n",
       "    </tr>\n",
       "    <tr>\n",
       "      <th>1</th>\n",
       "      <td>Account Type</td>\n",
       "      <td>0</td>\n",
       "      <td>0.000000</td>\n",
       "    </tr>\n",
       "    <tr>\n",
       "      <th>2</th>\n",
       "      <td>Normalized Retailer</td>\n",
       "      <td>0</td>\n",
       "      <td>0.000000</td>\n",
       "    </tr>\n",
       "    <tr>\n",
       "      <th>3</th>\n",
       "      <td>SIC Description</td>\n",
       "      <td>0</td>\n",
       "      <td>0.000000</td>\n",
       "    </tr>\n",
       "    <tr>\n",
       "      <th>4</th>\n",
       "      <td>Purchase Amount</td>\n",
       "      <td>0</td>\n",
       "      <td>0.000000</td>\n",
       "    </tr>\n",
       "    <tr>\n",
       "      <th>5</th>\n",
       "      <td>Transaction Date</td>\n",
       "      <td>0</td>\n",
       "      <td>0.000000</td>\n",
       "    </tr>\n",
       "    <tr>\n",
       "      <th>6</th>\n",
       "      <td>Age</td>\n",
       "      <td>0</td>\n",
       "      <td>0.000000</td>\n",
       "    </tr>\n",
       "  </tbody>\n",
       "</table>\n",
       "</div>"
      ],
      "text/plain": [
       "              variable  missing counts  missing per (%)\n",
       "0      Consumer Gender               1         1.052632\n",
       "1         Account Type               0         0.000000\n",
       "2  Normalized Retailer               0         0.000000\n",
       "3      SIC Description               0         0.000000\n",
       "4      Purchase Amount               0         0.000000\n",
       "5     Transaction Date               0         0.000000\n",
       "6                  Age               0         0.000000"
      ]
     },
     "execution_count": 8,
     "metadata": {},
     "output_type": "execute_result"
    }
   ],
   "source": [
    "# check missing values \n",
    "missing_df = df.isnull().sum().reset_index()\n",
    "missing_df.columns = ['variable', 'missing counts']\n",
    "missing_df['missing per (%)'] = (missing_df['missing counts'])/df.shape[0]*100\n",
    "missing_df.sort_values('missing per (%)',ascending = False).reset_index(drop = True)"
   ]
  },
  {
   "cell_type": "code",
   "execution_count": 9,
   "metadata": {
    "scrolled": true
   },
   "outputs": [
    {
     "name": "stdout",
     "output_type": "stream",
     "text": [
      "Row # of the table: 94\n"
     ]
    },
    {
     "data": {
      "text/plain": [
       "['Account Type',\n",
       " 'Consumer Gender',\n",
       " 'Normalized Retailer',\n",
       " 'SIC Description',\n",
       " 'Purchase Amount',\n",
       " 'Transaction Date',\n",
       " 'Age']"
      ]
     },
     "execution_count": 9,
     "metadata": {},
     "output_type": "execute_result"
    }
   ],
   "source": [
    "# remove missing values above\n",
    "df.dropna(inplace = True)\n",
    "print(\"Row # of the table: %d\" % len(df.index))\n",
    "list(df.columns)"
   ]
  },
  {
   "cell_type": "code",
   "execution_count": 10,
   "metadata": {},
   "outputs": [],
   "source": [
    "# convert ‘Transaction Date’ into day_of_week (Mon/Tue.) and period_of_month (start, mid and end).\n",
    "if 'Transaction Date' in df.columns:\n",
    "    df['Transaction Date'] = pd.to_datetime(df['Transaction Date'])\n",
    "    df['day_of_week'] = df['Transaction Date'].dt.day_name()\n",
    "    df['day_of_month'] = df['Transaction Date'].dt.day\n",
    "    df['period_of_month'] = df.apply(lambda x: 'start' if x.day_of_month <= 10 else 'mid' if x.day_of_month <=20 else 'end', axis = 1)\n",
    "    df.drop(['Transaction Date','day_of_month'], axis = 1, inplace = True)"
   ]
  },
  {
   "cell_type": "code",
   "execution_count": 11,
   "metadata": {},
   "outputs": [
    {
     "data": {
      "text/html": [
       "<div>\n",
       "<style scoped>\n",
       "    .dataframe tbody tr th:only-of-type {\n",
       "        vertical-align: middle;\n",
       "    }\n",
       "\n",
       "    .dataframe tbody tr th {\n",
       "        vertical-align: top;\n",
       "    }\n",
       "\n",
       "    .dataframe thead th {\n",
       "        text-align: right;\n",
       "    }\n",
       "</style>\n",
       "<table border=\"1\" class=\"dataframe\">\n",
       "  <thead>\n",
       "    <tr style=\"text-align: right;\">\n",
       "      <th></th>\n",
       "      <th>Account Type</th>\n",
       "      <th>Consumer Gender</th>\n",
       "      <th>Normalized Retailer</th>\n",
       "      <th>SIC Description</th>\n",
       "      <th>Purchase Amount</th>\n",
       "      <th>Age</th>\n",
       "      <th>day_of_week</th>\n",
       "      <th>period_of_month</th>\n",
       "    </tr>\n",
       "  </thead>\n",
       "  <tbody>\n",
       "    <tr>\n",
       "      <th>0</th>\n",
       "      <td>credit_card</td>\n",
       "      <td>male</td>\n",
       "      <td>Red Robin</td>\n",
       "      <td>Eating Places</td>\n",
       "      <td>15.52</td>\n",
       "      <td>22</td>\n",
       "      <td>Monday</td>\n",
       "      <td>start</td>\n",
       "    </tr>\n",
       "    <tr>\n",
       "      <th>1</th>\n",
       "      <td>bank_account</td>\n",
       "      <td>male</td>\n",
       "      <td>California Thai</td>\n",
       "      <td>Eating Places</td>\n",
       "      <td>11.29</td>\n",
       "      <td>30</td>\n",
       "      <td>Monday</td>\n",
       "      <td>end</td>\n",
       "    </tr>\n",
       "    <tr>\n",
       "      <th>2</th>\n",
       "      <td>credit_card</td>\n",
       "      <td>male</td>\n",
       "      <td>Petro-Canada</td>\n",
       "      <td>Gasoline Service Stations</td>\n",
       "      <td>10.78</td>\n",
       "      <td>34</td>\n",
       "      <td>Monday</td>\n",
       "      <td>end</td>\n",
       "    </tr>\n",
       "    <tr>\n",
       "      <th>3</th>\n",
       "      <td>bank_account</td>\n",
       "      <td>female</td>\n",
       "      <td>The Beer Store</td>\n",
       "      <td>Liquor Stores</td>\n",
       "      <td>88.90</td>\n",
       "      <td>43</td>\n",
       "      <td>Monday</td>\n",
       "      <td>start</td>\n",
       "    </tr>\n",
       "    <tr>\n",
       "      <th>4</th>\n",
       "      <td>bank_account</td>\n",
       "      <td>male</td>\n",
       "      <td>Intermarche</td>\n",
       "      <td>Grocery Stores</td>\n",
       "      <td>23.54</td>\n",
       "      <td>62</td>\n",
       "      <td>Sunday</td>\n",
       "      <td>start</td>\n",
       "    </tr>\n",
       "  </tbody>\n",
       "</table>\n",
       "</div>"
      ],
      "text/plain": [
       "   Account Type Consumer Gender Normalized Retailer  \\\n",
       "0   credit_card            male           Red Robin   \n",
       "1  bank_account            male     California Thai   \n",
       "2   credit_card            male        Petro-Canada   \n",
       "3  bank_account          female      The Beer Store   \n",
       "4  bank_account            male         Intermarche   \n",
       "\n",
       "             SIC Description  Purchase Amount  Age day_of_week period_of_month  \n",
       "0              Eating Places            15.52   22      Monday           start  \n",
       "1              Eating Places            11.29   30      Monday             end  \n",
       "2  Gasoline Service Stations            10.78   34      Monday             end  \n",
       "3              Liquor Stores            88.90   43      Monday           start  \n",
       "4             Grocery Stores            23.54   62      Sunday           start  "
      ]
     },
     "execution_count": 11,
     "metadata": {},
     "output_type": "execute_result"
    }
   ],
   "source": [
    "df.head()"
   ]
  },
  {
   "cell_type": "code",
   "execution_count": 12,
   "metadata": {},
   "outputs": [
    {
     "name": "stdout",
     "output_type": "stream",
     "text": [
      "SIC to keep:  ['Eating Places', 'Gasoline Service Stations', 'Grocery Stores', 'Drug Stores and Proprietary Stores', 'Miscellaneous Food Stores', 'Hardware Stores', 'Family Clothing Stores', 'Book Stores', 'Communications Services, Not Elsewhere Classified']\n"
     ]
    }
   ],
   "source": [
    "# 'SIC Description' (114) - only keep top N and group the rest into `other`\n",
    "N = 9\n",
    "def viewSICCounts(df):\n",
    "    df_pivot = df.groupby(by = 'SIC Description').size().reset_index(name='Counts')\n",
    "    df_pivot['Per (%)'] = (df_pivot['Counts'])/df.shape[0]*100\n",
    "    df_pivot.sort_values(by = 'Counts',ascending = False,inplace = True)\n",
    "    return df_pivot\n",
    "    \n",
    "df_pivot = viewSICCounts(df)\n",
    "list2keep = list(df_pivot.nlargest(N, 'Counts')['SIC Description'])\n",
    "print(\"SIC to keep: \", list2keep)"
   ]
  },
  {
   "cell_type": "code",
   "execution_count": 13,
   "metadata": {},
   "outputs": [
    {
     "data": {
      "text/html": [
       "<div>\n",
       "<style scoped>\n",
       "    .dataframe tbody tr th:only-of-type {\n",
       "        vertical-align: middle;\n",
       "    }\n",
       "\n",
       "    .dataframe tbody tr th {\n",
       "        vertical-align: top;\n",
       "    }\n",
       "\n",
       "    .dataframe thead th {\n",
       "        text-align: right;\n",
       "    }\n",
       "</style>\n",
       "<table border=\"1\" class=\"dataframe\">\n",
       "  <thead>\n",
       "    <tr style=\"text-align: right;\">\n",
       "      <th></th>\n",
       "      <th>SIC Description</th>\n",
       "      <th>Counts</th>\n",
       "      <th>Per (%)</th>\n",
       "    </tr>\n",
       "  </thead>\n",
       "  <tbody>\n",
       "    <tr>\n",
       "      <th>3</th>\n",
       "      <td>Eating Places</td>\n",
       "      <td>24</td>\n",
       "      <td>25.531915</td>\n",
       "    </tr>\n",
       "    <tr>\n",
       "      <th>9</th>\n",
       "      <td>Other</td>\n",
       "      <td>18</td>\n",
       "      <td>19.148936</td>\n",
       "    </tr>\n",
       "    <tr>\n",
       "      <th>5</th>\n",
       "      <td>Gasoline Service Stations</td>\n",
       "      <td>13</td>\n",
       "      <td>13.829787</td>\n",
       "    </tr>\n",
       "    <tr>\n",
       "      <th>6</th>\n",
       "      <td>Grocery Stores</td>\n",
       "      <td>12</td>\n",
       "      <td>12.765957</td>\n",
       "    </tr>\n",
       "    <tr>\n",
       "      <th>2</th>\n",
       "      <td>Drug Stores and Proprietary Stores</td>\n",
       "      <td>7</td>\n",
       "      <td>7.446809</td>\n",
       "    </tr>\n",
       "    <tr>\n",
       "      <th>0</th>\n",
       "      <td>Book Stores</td>\n",
       "      <td>4</td>\n",
       "      <td>4.255319</td>\n",
       "    </tr>\n",
       "    <tr>\n",
       "      <th>1</th>\n",
       "      <td>Communications Services, Not Elsewhere Classified</td>\n",
       "      <td>4</td>\n",
       "      <td>4.255319</td>\n",
       "    </tr>\n",
       "    <tr>\n",
       "      <th>4</th>\n",
       "      <td>Family Clothing Stores</td>\n",
       "      <td>4</td>\n",
       "      <td>4.255319</td>\n",
       "    </tr>\n",
       "    <tr>\n",
       "      <th>7</th>\n",
       "      <td>Hardware Stores</td>\n",
       "      <td>4</td>\n",
       "      <td>4.255319</td>\n",
       "    </tr>\n",
       "    <tr>\n",
       "      <th>8</th>\n",
       "      <td>Miscellaneous Food Stores</td>\n",
       "      <td>4</td>\n",
       "      <td>4.255319</td>\n",
       "    </tr>\n",
       "  </tbody>\n",
       "</table>\n",
       "</div>"
      ],
      "text/plain": [
       "                                     SIC Description  Counts    Per (%)\n",
       "3                                      Eating Places      24  25.531915\n",
       "9                                              Other      18  19.148936\n",
       "5                          Gasoline Service Stations      13  13.829787\n",
       "6                                     Grocery Stores      12  12.765957\n",
       "2                 Drug Stores and Proprietary Stores       7   7.446809\n",
       "0                                        Book Stores       4   4.255319\n",
       "1  Communications Services, Not Elsewhere Classified       4   4.255319\n",
       "4                             Family Clothing Stores       4   4.255319\n",
       "7                                    Hardware Stores       4   4.255319\n",
       "8                          Miscellaneous Food Stores       4   4.255319"
      ]
     },
     "execution_count": 13,
     "metadata": {},
     "output_type": "execute_result"
    }
   ],
   "source": [
    "df['SIC Description'] = df['SIC Description'].apply(lambda x: x if x in list2keep else 'Other')\n",
    "df_pivot = viewSICCounts(df)\n",
    "df_pivot.head(N+1)"
   ]
  },
  {
   "cell_type": "code",
   "execution_count": 14,
   "metadata": {},
   "outputs": [
    {
     "name": "stdout",
     "output_type": "stream",
     "text": [
      "(94, 20)\n"
     ]
    }
   ],
   "source": [
    "# 'Normalized Retailer' (2449) - 20 dimensions embedding\n",
    "model = Word2Vec.load('models/perSICperPerson.model')\n",
    "\n",
    "# remove records with minority retailers (the dictionary only keep retailer that appears at least 5 times)\n",
    "#df2plot_topN = df2plot[df2plot['SIC'].isin(list2plot)]\n",
    "df = df[df['Normalized Retailer'].isin(list(model.wv.vocab))]\n",
    "\n",
    "retailerVec = model.wv[df['Normalized Retailer']]\n",
    "print(retailerVec.shape)"
   ]
  },
  {
   "cell_type": "code",
   "execution_count": null,
   "metadata": {},
   "outputs": [],
   "source": [
    "# convert retailer vector array into dataframe\n",
    "df_retailerVec = pd.DataFrame(retailerVec, columns=[\"retailerVec_%02d\" % x for x in range(1,21)]) \n",
    "print(df_retailerVec.shape)\n",
    "df_retailerVec.head()"
   ]
  },
  {
   "cell_type": "code",
   "execution_count": null,
   "metadata": {},
   "outputs": [],
   "source": [
    "# one hot encoding for categorical columns except `Normalized Retailer`\n",
    "df_dummy = df.copy()\n",
    "df_dummy.drop('Normalized Retailer', axis = 1, inplace = True, errors='ignore')\n",
    "df_dummy = pd.get_dummies(df_dummy)\n",
    "print(df_dummy.shape)\n",
    "df_dummy.head()"
   ]
  },
  {
   "cell_type": "code",
   "execution_count": null,
   "metadata": {},
   "outputs": [],
   "source": [
    "# concatenate df_dummy and df_retailerVec\n",
    "df_dummy.reset_index(inplace=True,drop=True)\n",
    "df_retailerVec.reset_index(inplace=True,drop=True)\n",
    "\n",
    "df_input = pd.concat([df_dummy, df_retailerVec], axis = 1, sort = False, ignore_index = False)\n",
    "print(df_input.shape)\n",
    "df_input.head()"
   ]
  },
  {
   "cell_type": "code",
   "execution_count": null,
   "metadata": {},
   "outputs": [],
   "source": [
    "# convert pd frame to np array and indicate categorical and oridinal columns\n",
    "data = df_input.to_numpy()\n",
    "categorical_columns = [x for x in range(2,46)]\n",
    "ordinal_columns = [1]"
   ]
  },
  {
   "cell_type": "code",
   "execution_count": null,
   "metadata": {},
   "outputs": [],
   "source": [
    "# train the synthesizer\n",
    "start = datetime.datetime.now()\n",
    "\n",
    "synthesizer = TVAESynthesizer()\n",
    "synthesizer.fit(data, categorical_columns, ordinal_columns)\n",
    "\n",
    "print(\"TVAE training time: \" + str(datetime.datetime.now()-start))"
   ]
  },
  {
   "cell_type": "code",
   "execution_count": null,
   "metadata": {},
   "outputs": [],
   "source": [
    "# save the synthesizer\n",
    "def save_object(obj, filename):\n",
    "    with open(filename, 'wb') as output:  # overwrite any existing file\n",
    "        pickle.dump(obj, output, pickle.HIGHEST_PROTOCOL)\n",
    "\n",
    "#save_object(synthesizer, 'models/TVAE_synthesizer.pkl')"
   ]
  },
  {
   "cell_type": "code",
   "execution_count": null,
   "metadata": {},
   "outputs": [],
   "source": [
    "# load synthesizer from saved object\n",
    "with open('models/TVAE_synthesizer.pkl', 'rb') as input:\n",
    "    synthesizer = pickle.load(input)"
   ]
  },
  {
   "cell_type": "code",
   "execution_count": null,
   "metadata": {},
   "outputs": [],
   "source": [
    "# check out sample\n",
    "sampled = synthesizer.sample(1)\n",
    "np.set_printoptions(suppress = True, precision = 2)\n",
    "print(sampled)"
   ]
  },
  {
   "cell_type": "code",
   "execution_count": null,
   "metadata": {},
   "outputs": [],
   "source": [
    "# convert sample back to readable categories\n",
    "sample = data[0:3]\n",
    "print(sample)"
   ]
  },
  {
   "cell_type": "code",
   "execution_count": null,
   "metadata": {},
   "outputs": [],
   "source": [
    "df_sample = pd.DataFrame(sample, columns=list(df_input.columns)) \n",
    "print(df_sample.columns)\n",
    "df_sample.head()"
   ]
  },
  {
   "cell_type": "code",
   "execution_count": null,
   "metadata": {},
   "outputs": [],
   "source": [
    "# return series of dummy variables with given column name\n",
    "def reverse_dummy(df, col_name):\n",
    "    # get index of columns that starts with col_name, for example, Gender_male, Gender_female for col_name = `Gender`\n",
    "    idx = [i for i, s in enumerate(list(df.columns)) if col_name in s]\n",
    "    tmp = df.iloc[:,idx]\n",
    "    # convert selected dataframe to series\n",
    "    df_output = pd.Series(tmp.columns[np.where(tmp!=0)[1]], name = col_name)\n",
    "    # remove strings with col_name plus underscore\n",
    "    df_output = df_output.map(lambda x: x.replace(col_name + '_',''))\n",
    "    return df_output"
   ]
  },
  {
   "cell_type": "code",
   "execution_count": null,
   "metadata": {},
   "outputs": [],
   "source": [
    "df_num = df_sample.iloc[:,[0,1]]\n",
    "df_account = reverse_dummy(df_sample,'Account Type')\n",
    "df_gender = reverse_dummy(df_sample,'Consumer Gender')\n",
    "df_SIC = reverse_dummy(df_sample,'SIC Description')\n",
    "df_dw = reverse_dummy(df_sample,'day_of_week')\n",
    "df_pm = reverse_dummy(df_sample,'period_of_month')"
   ]
  },
  {
   "cell_type": "code",
   "execution_count": null,
   "metadata": {},
   "outputs": [],
   "source": [
    "df_reverse = pd.concat([df_num,df_account,df_gender,df_SIC,df_dw,df_pm], axis=1)\n",
    "df_reverse.head()"
   ]
  },
  {
   "cell_type": "code",
   "execution_count": null,
   "metadata": {},
   "outputs": [],
   "source": [
    "# given period_of_month (start, mid or end) and year (1989) and month (6), return index of the possible days\n",
    "def return_day_index(period_of_month, year, month):\n",
    "    if period_of_month == 'start':\n",
    "        return list(range(1,11))\n",
    "    elif period_of_month == 'mid':\n",
    "        return list(range(11,21))\n",
    "    else:\n",
    "        return list(range(21, pd.Period(str(year) + '-' + str(month)).days_in_month + 1))"
   ]
  },
  {
   "cell_type": "code",
   "execution_count": null,
   "metadata": {},
   "outputs": [],
   "source": [
    "# function to convert day_of_week and period_of_month back to Date, given a year and a month\n",
    "# Example:\n",
    "# input: day_of_week = 'Monday'; period_of_month = 'start'; Y = 2020; M = 2\n",
    "# output: 2020-02-03 00:00:00\n",
    "\n",
    "def return_date(day_of_week, period_of_month, Y, M):\n",
    "    # return list of days\n",
    "    D = return_day_index(period_of_month, Y, M)\n",
    "\n",
    "    tmp = pd.DataFrame({'year': [str(Y) for i in range(len(D))],\n",
    "                        'month': [str(M) for i in range(len(D))],\n",
    "                        'day': D})\n",
    "    \n",
    "    # create table with each row of year, month and day in given period\n",
    "    date_period = pd.to_datetime(tmp[['year', 'month', 'day']])\n",
    "\n",
    "    # locate index of which date is the given day_of_week\n",
    "    idx_list = [i for i, s in enumerate(date_period.dt.strftime('%A')) if day_of_week in s]\n",
    "\n",
    "    # randomly pick up one index, since it's possible one period has multiple given weekday (say Monday)\n",
    "    idx = random.choice(idx_list)\n",
    "\n",
    "    return date_period[idx]"
   ]
  },
  {
   "cell_type": "code",
   "execution_count": null,
   "metadata": {},
   "outputs": [],
   "source": [
    "Y = 2022; M = 2\n",
    "df_reverse['Date'] = df_reverse.apply(lambda x: return_date(x.day_of_week, x.period_of_month, Y, M), axis = 1)\n",
    "df_reverse.drop(['day_of_week','period_of_month'], axis = 1, inplace = True, errors = 'ignore')\n",
    "df_reverse.head()"
   ]
  },
  {
   "cell_type": "code",
   "execution_count": null,
   "metadata": {},
   "outputs": [],
   "source": [
    "# reverse retailerVec back to retailers\n",
    "idx = [i for i, s in enumerate(list(df_sample.columns)) if 'retailerVec' in s]\n",
    "df_retailerVec = df_sample.iloc[:,idx]\n",
    "df_retailerVec.head()"
   ]
  },
  {
   "cell_type": "code",
   "execution_count": null,
   "metadata": {},
   "outputs": [],
   "source": [
    "#model.similar_by_vector(df_retailerVec.iloc[0,:].to_numpy(), topn = 1)[0][0]\n",
    "df_reverse['Retailer'] = df_retailerVec.apply(lambda x: model.similar_by_vector(x.to_numpy(),topn = 1)[0][0], axis = 1)\n",
    "df_reverse.head()"
   ]
  }
 ],
 "metadata": {
  "kernelspec": {
   "display_name": "Python 3",
   "language": "python",
   "name": "python3"
  },
  "language_info": {
   "codemirror_mode": {
    "name": "ipython",
    "version": 3
   },
   "file_extension": ".py",
   "mimetype": "text/x-python",
   "name": "python",
   "nbconvert_exporter": "python",
   "pygments_lexer": "ipython3",
   "version": "3.7.6"
  }
 },
 "nbformat": 4,
 "nbformat_minor": 4
}
