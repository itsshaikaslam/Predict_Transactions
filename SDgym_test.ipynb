{
 "cells": [
  {
   "cell_type": "code",
   "execution_count": 8,
   "metadata": {},
   "outputs": [],
   "source": [
    "import pandas as pd\n",
    "import numpy as np\n",
    "from sdgym import load_dataset\n",
    "from sdgym.synthesizers import TVAESynthesizer"
   ]
  },
  {
   "cell_type": "code",
   "execution_count": 9,
   "metadata": {},
   "outputs": [
    {
     "name": "stderr",
     "output_type": "stream",
     "text": [
      "d:\\anaconda3\\lib\\site-packages\\IPython\\core\\interactiveshell.py:3063: DtypeWarning: Columns (3) have mixed types. Specify dtype option on import or set low_memory=False.\n",
      "  interactivity=interactivity, compiler=compiler, result=result)\n"
     ]
    }
   ],
   "source": [
    "# use first 100 rows from cc_data.csv\n",
    "df = pd.read_csv('data/cc_data.csv')\n",
    "df = df[:10000]"
   ]
  },
  {
   "cell_type": "code",
   "execution_count": 10,
   "metadata": {},
   "outputs": [],
   "source": [
    "# remove unnecessary columns\n",
    "col2remove = ['SIC Code', 'Return Amount', 'Reward Amount', 'Transaction ID', \n",
    "              'Account Identifier', 'Account Name', 'Account Number', 'Bank Name', \n",
    "              'Aggregator Name', 'Consumer ID', 'Consumer Created Date',\n",
    "              'Transaction String',  'Posted Date', 'Data Creation Date', \n",
    "              'SIC Description','Consumer Postal Code', 'Consumer City Name',\n",
    "              'Transaction Type','Transaction Date','Normalized Retailer','Ethnicity']\n",
    "df.drop(col2remove, axis = 1, inplace = True)"
   ]
  },
  {
   "cell_type": "code",
   "execution_count": 11,
   "metadata": {},
   "outputs": [
    {
     "data": {
      "text/html": [
       "<div>\n",
       "<style scoped>\n",
       "    .dataframe tbody tr th:only-of-type {\n",
       "        vertical-align: middle;\n",
       "    }\n",
       "\n",
       "    .dataframe tbody tr th {\n",
       "        vertical-align: top;\n",
       "    }\n",
       "\n",
       "    .dataframe thead th {\n",
       "        text-align: right;\n",
       "    }\n",
       "</style>\n",
       "<table border=\"1\" class=\"dataframe\">\n",
       "  <thead>\n",
       "    <tr style=\"text-align: right;\">\n",
       "      <th></th>\n",
       "      <th>Account Type</th>\n",
       "      <th>Consumer Gender</th>\n",
       "      <th>Consumer Birth Year</th>\n",
       "      <th>Purchase Amount</th>\n",
       "    </tr>\n",
       "  </thead>\n",
       "  <tbody>\n",
       "    <tr>\n",
       "      <th>0</th>\n",
       "      <td>credit_card</td>\n",
       "      <td>male</td>\n",
       "      <td>1998</td>\n",
       "      <td>15.52</td>\n",
       "    </tr>\n",
       "    <tr>\n",
       "      <th>1</th>\n",
       "      <td>bank_account</td>\n",
       "      <td>male</td>\n",
       "      <td>1990</td>\n",
       "      <td>11.29</td>\n",
       "    </tr>\n",
       "    <tr>\n",
       "      <th>2</th>\n",
       "      <td>credit_card</td>\n",
       "      <td>male</td>\n",
       "      <td>1986</td>\n",
       "      <td>10.78</td>\n",
       "    </tr>\n",
       "    <tr>\n",
       "      <th>3</th>\n",
       "      <td>bank_account</td>\n",
       "      <td>female</td>\n",
       "      <td>1977</td>\n",
       "      <td>88.90</td>\n",
       "    </tr>\n",
       "    <tr>\n",
       "      <th>4</th>\n",
       "      <td>bank_account</td>\n",
       "      <td>male</td>\n",
       "      <td>1958</td>\n",
       "      <td>23.54</td>\n",
       "    </tr>\n",
       "  </tbody>\n",
       "</table>\n",
       "</div>"
      ],
      "text/plain": [
       "   Account Type Consumer Gender  Consumer Birth Year  Purchase Amount\n",
       "0   credit_card            male                 1998            15.52\n",
       "1  bank_account            male                 1990            11.29\n",
       "2   credit_card            male                 1986            10.78\n",
       "3  bank_account          female                 1977            88.90\n",
       "4  bank_account            male                 1958            23.54"
      ]
     },
     "execution_count": 11,
     "metadata": {},
     "output_type": "execute_result"
    }
   ],
   "source": [
    "df.head()"
   ]
  },
  {
   "cell_type": "code",
   "execution_count": 12,
   "metadata": {},
   "outputs": [
    {
     "data": {
      "text/html": [
       "<div>\n",
       "<style scoped>\n",
       "    .dataframe tbody tr th:only-of-type {\n",
       "        vertical-align: middle;\n",
       "    }\n",
       "\n",
       "    .dataframe tbody tr th {\n",
       "        vertical-align: top;\n",
       "    }\n",
       "\n",
       "    .dataframe thead th {\n",
       "        text-align: right;\n",
       "    }\n",
       "</style>\n",
       "<table border=\"1\" class=\"dataframe\">\n",
       "  <thead>\n",
       "    <tr style=\"text-align: right;\">\n",
       "      <th></th>\n",
       "      <th>Consumer Birth Year</th>\n",
       "      <th>Purchase Amount</th>\n",
       "      <th>Account Type_bank_account</th>\n",
       "      <th>Account Type_credit_card</th>\n",
       "      <th>Account Type_investment_account</th>\n",
       "      <th>Consumer Gender_both</th>\n",
       "      <th>Consumer Gender_female</th>\n",
       "      <th>Consumer Gender_male</th>\n",
       "    </tr>\n",
       "  </thead>\n",
       "  <tbody>\n",
       "    <tr>\n",
       "      <th>0</th>\n",
       "      <td>1998</td>\n",
       "      <td>15.52</td>\n",
       "      <td>0</td>\n",
       "      <td>1</td>\n",
       "      <td>0</td>\n",
       "      <td>0</td>\n",
       "      <td>0</td>\n",
       "      <td>1</td>\n",
       "    </tr>\n",
       "    <tr>\n",
       "      <th>1</th>\n",
       "      <td>1990</td>\n",
       "      <td>11.29</td>\n",
       "      <td>1</td>\n",
       "      <td>0</td>\n",
       "      <td>0</td>\n",
       "      <td>0</td>\n",
       "      <td>0</td>\n",
       "      <td>1</td>\n",
       "    </tr>\n",
       "    <tr>\n",
       "      <th>2</th>\n",
       "      <td>1986</td>\n",
       "      <td>10.78</td>\n",
       "      <td>0</td>\n",
       "      <td>1</td>\n",
       "      <td>0</td>\n",
       "      <td>0</td>\n",
       "      <td>0</td>\n",
       "      <td>1</td>\n",
       "    </tr>\n",
       "    <tr>\n",
       "      <th>3</th>\n",
       "      <td>1977</td>\n",
       "      <td>88.90</td>\n",
       "      <td>1</td>\n",
       "      <td>0</td>\n",
       "      <td>0</td>\n",
       "      <td>0</td>\n",
       "      <td>1</td>\n",
       "      <td>0</td>\n",
       "    </tr>\n",
       "    <tr>\n",
       "      <th>4</th>\n",
       "      <td>1958</td>\n",
       "      <td>23.54</td>\n",
       "      <td>1</td>\n",
       "      <td>0</td>\n",
       "      <td>0</td>\n",
       "      <td>0</td>\n",
       "      <td>0</td>\n",
       "      <td>1</td>\n",
       "    </tr>\n",
       "  </tbody>\n",
       "</table>\n",
       "</div>"
      ],
      "text/plain": [
       "   Consumer Birth Year  Purchase Amount  Account Type_bank_account  \\\n",
       "0                 1998            15.52                          0   \n",
       "1                 1990            11.29                          1   \n",
       "2                 1986            10.78                          0   \n",
       "3                 1977            88.90                          1   \n",
       "4                 1958            23.54                          1   \n",
       "\n",
       "   Account Type_credit_card  Account Type_investment_account  \\\n",
       "0                         1                                0   \n",
       "1                         0                                0   \n",
       "2                         1                                0   \n",
       "3                         0                                0   \n",
       "4                         0                                0   \n",
       "\n",
       "   Consumer Gender_both  Consumer Gender_female  Consumer Gender_male  \n",
       "0                     0                       0                     1  \n",
       "1                     0                       0                     1  \n",
       "2                     0                       0                     1  \n",
       "3                     0                       1                     0  \n",
       "4                     0                       0                     1  "
      ]
     },
     "execution_count": 12,
     "metadata": {},
     "output_type": "execute_result"
    }
   ],
   "source": [
    "# drop nan values\n",
    "df.dropna(inplace = True)\n",
    "# one hot encoding for categorical variables\n",
    "df = pd.get_dummies(df)\n",
    "df.head()"
   ]
  },
  {
   "cell_type": "code",
   "execution_count": 13,
   "metadata": {},
   "outputs": [],
   "source": [
    "# convert pd frame to np array and indicate categorical and oridinal columns\n",
    "data = df.to_numpy()\n",
    "categorical_columns = [2,3,4,5,6]\n",
    "ordinal_columns = [0]"
   ]
  },
  {
   "cell_type": "code",
   "execution_count": 14,
   "metadata": {},
   "outputs": [
    {
     "name": "stderr",
     "output_type": "stream",
     "text": [
      "C:\\Users\\rzhan\\AppData\\Roaming\\Python\\Python37\\site-packages\\sklearn\\mixture\\base.py:265: ConvergenceWarning: Initialization 1 did not converge. Try different init parameters, or increase max_iter, tol or check for degenerate data.\n",
      "  % (init + 1), ConvergenceWarning)\n",
      "C:\\Users\\rzhan\\AppData\\Roaming\\Python\\Python37\\site-packages\\sklearn\\cluster\\k_means_.py:972: ConvergenceWarning: Number of distinct clusters (2) found smaller than n_clusters (10). Possibly due to duplicate points in X.\n",
      "  return_n_iter=True)\n"
     ]
    }
   ],
   "source": [
    "# train the synthesizer\n",
    "synthesizer = TVAESynthesizer()\n",
    "synthesizer.fit(data, categorical_columns, ordinal_columns)"
   ]
  },
  {
   "cell_type": "code",
   "execution_count": 67,
   "metadata": {},
   "outputs": [
    {
     "name": "stdout",
     "output_type": "stream",
     "text": [
      "[[1983.     44.1     1.      0.      0.      0.      0.      1.  ]\n",
      " [1985.     24.62    1.      0.      0.      0.      1.     -0.  ]\n",
      " [1990.     59.29    1.      0.      0.      0.      0.      1.  ]\n",
      " [1989.      5.45    0.      1.      0.      0.      1.      0.  ]\n",
      " [1985.     36.31    1.      0.      0.      0.      0.      1.  ]\n",
      " [1983.      8.44    1.      0.      0.      0.      1.      0.  ]\n",
      " [1986.      4.01    1.      0.      0.      0.      1.      0.  ]\n",
      " [1990.      9.06    0.      1.      0.      0.      0.      1.  ]\n",
      " [1991.      4.18    1.      0.      0.      0.      1.      0.  ]\n",
      " [1986.     67.4     1.      0.      0.      0.      1.      0.  ]]\n"
     ]
    }
   ],
   "source": [
    "# check out sample\n",
    "sampled = synthesizer.sample(10)\n",
    "np.set_printoptions(suppress = True, precision = 2)\n",
    "print(sampled)"
   ]
  }
 ],
 "metadata": {
  "kernelspec": {
   "display_name": "Python 3",
   "language": "python",
   "name": "python3"
  },
  "language_info": {
   "codemirror_mode": {
    "name": "ipython",
    "version": 3
   },
   "file_extension": ".py",
   "mimetype": "text/x-python",
   "name": "python",
   "nbconvert_exporter": "python",
   "pygments_lexer": "ipython3",
   "version": "3.7.6"
  }
 },
 "nbformat": 4,
 "nbformat_minor": 4
}
