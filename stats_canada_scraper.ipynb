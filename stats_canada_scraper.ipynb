{
 "cells": [
  {
   "cell_type": "code",
   "execution_count": 102,
   "metadata": {},
   "outputs": [],
   "source": [
    "import numpy as np\n",
    "import pandas as pd\n",
    "import stats_can"
   ]
  },
  {
   "cell_type": "code",
   "execution_count": 21,
   "metadata": {},
   "outputs": [],
   "source": [
    "#sc = stats_can.StatsCan(data_folder = \"/data/eco\")\n",
    "#df = sc.table_to_df(\"271-000-22-01\")\n",
    "#sc.downloaded_tables"
   ]
  },
  {
   "cell_type": "code",
   "execution_count": 103,
   "metadata": {},
   "outputs": [
    {
     "data": {
      "text/plain": [
       "[{'responseStatusCode': 0,\n",
       "  'productId': 35100137,\n",
       "  'coordinate': '2.1.0.0.0.0.0.0.0.0',\n",
       "  'vectorId': 10001,\n",
       "  'vectorDataPoint': [{'refPer': '1998-01-01',\n",
       "    'refPer2': '',\n",
       "    'refPerRaw': '1998-01-01',\n",
       "    'refPerRaw2': '',\n",
       "    'value': 11.0,\n",
       "    'decimals': 0,\n",
       "    'scalarFactorCode': 0,\n",
       "    'symbolCode': 0,\n",
       "    'statusCode': 0,\n",
       "    'securityLevelCode': 0,\n",
       "    'releaseTime': '2000-02-18T17:52',\n",
       "    'frequencyCode': 13},\n",
       "   {'refPer': '2000-01-01',\n",
       "    'refPer2': '',\n",
       "    'refPerRaw': '2000-01-01',\n",
       "    'refPerRaw2': '',\n",
       "    'value': 13.0,\n",
       "    'decimals': 0,\n",
       "    'scalarFactorCode': 0,\n",
       "    'symbolCode': 0,\n",
       "    'statusCode': 0,\n",
       "    'securityLevelCode': 0,\n",
       "    'releaseTime': '2001-03-28T08:30',\n",
       "    'frequencyCode': 13}]},\n",
       " {'responseStatusCode': 0,\n",
       "  'productId': 35100137,\n",
       "  'coordinate': '11.1.0.0.0.0.0.0.0.0',\n",
       "  'vectorId': 10002,\n",
       "  'vectorDataPoint': [{'refPer': '1998-01-01',\n",
       "    'refPer2': '',\n",
       "    'refPerRaw': '1998-01-01',\n",
       "    'refPerRaw2': '',\n",
       "    'value': 93.0,\n",
       "    'decimals': 0,\n",
       "    'scalarFactorCode': 0,\n",
       "    'symbolCode': 0,\n",
       "    'statusCode': 0,\n",
       "    'securityLevelCode': 0,\n",
       "    'releaseTime': '2000-02-18T17:52',\n",
       "    'frequencyCode': 13},\n",
       "   {'refPer': '2000-01-01',\n",
       "    'refPer2': '',\n",
       "    'refPerRaw': '2000-01-01',\n",
       "    'refPerRaw2': '',\n",
       "    'value': 99.0,\n",
       "    'decimals': 0,\n",
       "    'scalarFactorCode': 0,\n",
       "    'symbolCode': 0,\n",
       "    'statusCode': 0,\n",
       "    'securityLevelCode': 0,\n",
       "    'releaseTime': '2001-03-28T08:30',\n",
       "    'frequencyCode': 13}]}]"
      ]
     },
     "execution_count": 103,
     "metadata": {},
     "output_type": "execute_result"
    }
   ],
   "source": [
    "vectors = ['0010001','0010002']\n",
    "N = 2\n",
    "\n",
    "stats_can.scwds.get_data_from_vectors_and_latest_n_periods(vectors, periods = N)"
   ]
  },
  {
   "cell_type": "code",
   "execution_count": 104,
   "metadata": {},
   "outputs": [
    {
     "data": {
      "text/html": [
       "<div>\n",
       "<style scoped>\n",
       "    .dataframe tbody tr th:only-of-type {\n",
       "        vertical-align: middle;\n",
       "    }\n",
       "\n",
       "    .dataframe tbody tr th {\n",
       "        vertical-align: top;\n",
       "    }\n",
       "\n",
       "    .dataframe thead th {\n",
       "        text-align: right;\n",
       "    }\n",
       "</style>\n",
       "<table border=\"1\" class=\"dataframe\">\n",
       "  <thead>\n",
       "    <tr style=\"text-align: right;\">\n",
       "      <th></th>\n",
       "      <th>v10001</th>\n",
       "      <th>v10002</th>\n",
       "    </tr>\n",
       "    <tr>\n",
       "      <th>refPer</th>\n",
       "      <th></th>\n",
       "      <th></th>\n",
       "    </tr>\n",
       "  </thead>\n",
       "  <tbody>\n",
       "    <tr>\n",
       "      <th>1998-01-01</th>\n",
       "      <td>11.0</td>\n",
       "      <td>93.0</td>\n",
       "    </tr>\n",
       "    <tr>\n",
       "      <th>2000-01-01</th>\n",
       "      <td>13.0</td>\n",
       "      <td>99.0</td>\n",
       "    </tr>\n",
       "  </tbody>\n",
       "</table>\n",
       "</div>"
      ],
      "text/plain": [
       "            v10001  v10002\n",
       "refPer                    \n",
       "1998-01-01    11.0    93.0\n",
       "2000-01-01    13.0    99.0"
      ]
     },
     "execution_count": 104,
     "metadata": {},
     "output_type": "execute_result"
    }
   ],
   "source": [
    "#stats_can.sc.vectors_to_df(vectors, periods = N, start_release_date = None, end_release_date = None)\n",
    "stats_can.sc.vectors_to_df(vectors, periods = N)"
   ]
  }
 ],
 "metadata": {
  "kernelspec": {
   "display_name": "Python 3",
   "language": "python",
   "name": "python3"
  },
  "language_info": {
   "codemirror_mode": {
    "name": "ipython",
    "version": 3
   },
   "file_extension": ".py",
   "mimetype": "text/x-python",
   "name": "python",
   "nbconvert_exporter": "python",
   "pygments_lexer": "ipython3",
   "version": "3.7.6"
  }
 },
 "nbformat": 4,
 "nbformat_minor": 4
}
