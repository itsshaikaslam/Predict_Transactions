{
 "cells": [
  {
   "cell_type": "code",
   "execution_count": 1,
   "metadata": {},
   "outputs": [],
   "source": [
    "import numpy as np\n",
    "import pandas as pd\n",
    "import stats_can"
   ]
  },
  {
   "cell_type": "code",
   "execution_count": 2,
   "metadata": {},
   "outputs": [],
   "source": [
    "#sc = stats_can.StatsCan(data_folder = \"/data/eco\")\n",
    "#df = sc.table_to_df(\"271-000-22-01\")\n",
    "#sc.downloaded_tables\n",
    "\n",
    "eco_vec_map = {'CPI':'v41690973',\n",
    "               'Exchange_Rate_USD':'v111666275',\n",
    "               'GDP':'v65201210',\n",
    "               'Unemployment_Rate':'v91506256',\n",
    "               'TSX':'v122620'}"
   ]
  },
  {
   "cell_type": "code",
   "execution_count": 3,
   "metadata": {},
   "outputs": [],
   "source": [
    "vectors = list(eco_vec_map.values())\n",
    "N = 12"
   ]
  },
  {
   "cell_type": "code",
   "execution_count": 4,
   "metadata": {},
   "outputs": [],
   "source": [
    "## check out direct json result from the API \n",
    "# stats_can.scwds.get_data_from_vectors_and_latest_n_periods(vectors, periods = N)\n",
    "## retrieve and wrap up data into dataframe\n",
    "# stats_can.sc.vectors_to_df(vectors, periods = N, start_release_date = None, end_release_date = None)"
   ]
  },
  {
   "cell_type": "code",
   "execution_count": 5,
   "metadata": {},
   "outputs": [],
   "source": [
    "# retrieve last N points from Stats Canada\n",
    "df = stats_can.sc.vectors_to_df(vectors, periods = N)"
   ]
  },
  {
   "cell_type": "code",
   "execution_count": 6,
   "metadata": {},
   "outputs": [
    {
     "name": "stdout",
     "output_type": "stream",
     "text": [
      "                 TSX    CPI        GDP  Unemployment_Rate  Exchange_Rate_USD\n",
      "Date                                                                        \n",
      "2019-09-01       NaN    NaN  1981101.0                NaN                NaN\n",
      "2019-10-01  16483.16  136.6  1980913.0                NaN                NaN\n",
      "2019-11-01  17040.20  136.4  1981630.0                5.5             1.3239\n",
      "2019-12-01  17063.43  136.4  1988279.0                5.1             1.3172\n",
      "2020-01-01  17318.49  136.8  1989963.0                5.8             1.3087\n",
      "2020-02-01  16263.05  137.4  1995120.0                5.9             1.3286\n",
      "2020-03-01  13378.75  136.6  1849437.0                8.4             1.3953\n",
      "2020-04-01  14780.74  135.7  1634708.0               13.5             1.4058\n",
      "2020-05-01  15192.83  136.1  1713647.0               13.8             1.3970\n",
      "2020-06-01  15515.22  137.2  1825876.0               11.9             1.3550\n",
      "2020-07-01  16169.20  137.2  1881709.0               11.2             1.3499\n",
      "2020-08-01  16514.44  137.0  1904249.0               11.0             1.3222\n",
      "2020-09-01  16121.38  136.9        NaN                8.4             1.3228\n",
      "2020-10-01       NaN    NaN        NaN                8.1             1.3215\n"
     ]
    }
   ],
   "source": [
    "inv_map = {v: k for k, v in eco_vec_map.items()}\n",
    "df.columns = df.columns.to_series().map(inv_map)\n",
    "df.index.names = ['Date']\n",
    "print(df)"
   ]
  }
 ],
 "metadata": {
  "kernelspec": {
   "display_name": "Python 3",
   "language": "python",
   "name": "python3"
  },
  "language_info": {
   "codemirror_mode": {
    "name": "ipython",
    "version": 3
   },
   "file_extension": ".py",
   "mimetype": "text/x-python",
   "name": "python",
   "nbconvert_exporter": "python",
   "pygments_lexer": "ipython3",
   "version": "3.7.6"
  }
 },
 "nbformat": 4,
 "nbformat_minor": 4
}
