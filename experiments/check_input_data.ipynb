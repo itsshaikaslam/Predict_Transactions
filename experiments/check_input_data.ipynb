{
 "cells": [
  {
   "cell_type": "code",
   "execution_count": 3,
   "metadata": {},
   "outputs": [],
   "source": [
    "import pandas as pd\n",
    "import numpy as np\n",
    "import seaborn as sns\n",
    "import matplotlib.pyplot as plt \n",
    "%matplotlib inline\n",
    "import pickle\n",
    "import torch\n",
    "import io"
   ]
  },
  {
   "cell_type": "code",
   "execution_count": 4,
   "metadata": {},
   "outputs": [],
   "source": [
    "# view counts and percentage for each column's elements\n",
    "def view_column_counts(df, col_name):\n",
    "    df_pivot = df.groupby(by = col_name).size().reset_index(name='Counts')\n",
    "    df_pivot['Per (%)'] = (df_pivot['Counts'])/df.shape[0]*100\n",
    "    df_pivot.sort_values(by = 'Counts',ascending = False,inplace = True)\n",
    "    return df_pivot"
   ]
  },
  {
   "cell_type": "code",
   "execution_count": 5,
   "metadata": {},
   "outputs": [
    {
     "name": "stderr",
     "output_type": "stream",
     "text": [
      "d:\\anaconda3\\lib\\site-packages\\IPython\\core\\interactiveshell.py:3063: DtypeWarning: Columns (3) have mixed types.Specify dtype option on import or set low_memory=False.\n",
      "  interactivity=interactivity, compiler=compiler, result=result)\n"
     ]
    }
   ],
   "source": [
    "# load original data and pre-processing\n",
    "df = pd.read_csv('../data/cc_data.csv')\n",
    "\n",
    "# remove unnecessary columns\n",
    "col2remove = ['SIC Code', 'Return Amount', 'Reward Amount', 'Transaction ID', \n",
    "              'Account Identifier', 'Account Name', 'Account Number', 'Bank Name', \n",
    "              'Aggregator Name', 'Consumer ID', 'Consumer Created Date',\n",
    "              'Transaction String', 'Posted Date', 'Data Creation Date', \n",
    "              'Consumer Postal Code', 'Consumer City Name','Ethnicity']\n",
    "df.drop(col2remove, axis = 1, inplace = True, errors='ignore') \n",
    "\n",
    "# Only keep `purchase` rows for `Transaction Type`, and then remove `Trsansaction Type`\n",
    "if 'Transaction Type' in df.columns:\n",
    "    df = df[df['Transaction Type'] == 'purchase']\n",
    "    df.drop('Transaction Type', axis = 1, inplace = True)\n",
    "    \n",
    "# calculate consumer age, any birth year after 2020 is converted to null, and then remove `Consumer Birth Year` column\n",
    "if 'Consumer Birth Year' in df.columns:\n",
    "    df['Age'] = df['Consumer Birth Year'].apply(lambda x: 2020 - int(x) if int(x) < 2020 else None)\n",
    "    df.drop('Consumer Birth Year', axis = 1, inplace = True)\n",
    "    \n",
    "# convert `N\\A` in `Transation date` into null\n",
    "df['Transaction Date'].replace({\"N\\A\":None}, inplace=True)\n",
    "# convert `both` in `Consumer Gender` into null, only keep male and female\n",
    "df['Consumer Gender'].replace({'both':None}, inplace=True)\n",
    "# convert `investment_account` and `loans` in `Account Type` into null, only keep bank_account and credit_card\n",
    "df['Account Type'].replace({'investment_account':None,'loans':None},inplace=True)\n",
    "# remove missing values above\n",
    "df.dropna(inplace = True)\n",
    "\n",
    "# 'SIC Description' (114) - only keep top N and group the rest into `other`\n",
    "N = 9\n",
    "df_pivot = view_column_counts(df,'SIC Description')\n",
    "list2keep = list(df_pivot.nlargest(N, 'Counts')['SIC Description'])\n",
    "df['SIC Description'] = df['SIC Description'].apply(lambda x: x if x in list2keep else 'Other')\n",
    "#df_pivot.head(N+1)"
   ]
  },
  {
   "cell_type": "code",
   "execution_count": 6,
   "metadata": {},
   "outputs": [
    {
     "data": {
      "text/plain": [
       "['Eating Places',\n",
       " 'Grocery Stores',\n",
       " 'Gasoline Service Stations',\n",
       " 'Book Stores',\n",
       " 'Drug Stores and Proprietary Stores',\n",
       " 'Miscellaneous Food Stores',\n",
       " 'Family Clothing Stores',\n",
       " 'Taxicabs',\n",
       " 'Communications Services, Not Elsewhere Classified']"
      ]
     },
     "execution_count": 6,
     "metadata": {},
     "output_type": "execute_result"
    }
   ],
   "source": [
    "list2keep"
   ]
  },
  {
   "cell_type": "code",
   "execution_count": 7,
   "metadata": {},
   "outputs": [
    {
     "data": {
      "text/html": [
       "<div>\n",
       "<style scoped>\n",
       "    .dataframe tbody tr th:only-of-type {\n",
       "        vertical-align: middle;\n",
       "    }\n",
       "\n",
       "    .dataframe tbody tr th {\n",
       "        vertical-align: top;\n",
       "    }\n",
       "\n",
       "    .dataframe thead th {\n",
       "        text-align: right;\n",
       "    }\n",
       "</style>\n",
       "<table border=\"1\" class=\"dataframe\">\n",
       "  <thead>\n",
       "    <tr style=\"text-align: right;\">\n",
       "      <th></th>\n",
       "      <th>Account Type</th>\n",
       "      <th>Consumer Gender</th>\n",
       "      <th>Normalized Retailer</th>\n",
       "      <th>SIC Description</th>\n",
       "      <th>Purchase Amount</th>\n",
       "      <th>Transaction Date</th>\n",
       "      <th>Age</th>\n",
       "    </tr>\n",
       "  </thead>\n",
       "  <tbody>\n",
       "    <tr>\n",
       "      <th>0</th>\n",
       "      <td>credit_card</td>\n",
       "      <td>male</td>\n",
       "      <td>Red Robin</td>\n",
       "      <td>Eating Places</td>\n",
       "      <td>15.52</td>\n",
       "      <td>2019-07-01</td>\n",
       "      <td>22.0</td>\n",
       "    </tr>\n",
       "    <tr>\n",
       "      <th>1</th>\n",
       "      <td>bank_account</td>\n",
       "      <td>male</td>\n",
       "      <td>California Thai</td>\n",
       "      <td>Eating Places</td>\n",
       "      <td>11.29</td>\n",
       "      <td>2019-09-30</td>\n",
       "      <td>30.0</td>\n",
       "    </tr>\n",
       "    <tr>\n",
       "      <th>2</th>\n",
       "      <td>credit_card</td>\n",
       "      <td>male</td>\n",
       "      <td>Petro-Canada</td>\n",
       "      <td>Gasoline Service Stations</td>\n",
       "      <td>10.78</td>\n",
       "      <td>2019-06-24</td>\n",
       "      <td>34.0</td>\n",
       "    </tr>\n",
       "    <tr>\n",
       "      <th>3</th>\n",
       "      <td>bank_account</td>\n",
       "      <td>female</td>\n",
       "      <td>The Beer Store</td>\n",
       "      <td>Other</td>\n",
       "      <td>88.90</td>\n",
       "      <td>2018-10-01</td>\n",
       "      <td>43.0</td>\n",
       "    </tr>\n",
       "    <tr>\n",
       "      <th>4</th>\n",
       "      <td>bank_account</td>\n",
       "      <td>male</td>\n",
       "      <td>Intermarche</td>\n",
       "      <td>Grocery Stores</td>\n",
       "      <td>23.54</td>\n",
       "      <td>2019-12-01</td>\n",
       "      <td>62.0</td>\n",
       "    </tr>\n",
       "  </tbody>\n",
       "</table>\n",
       "</div>"
      ],
      "text/plain": [
       "   Account Type Consumer Gender Normalized Retailer  \\\n",
       "0   credit_card            male           Red Robin   \n",
       "1  bank_account            male     California Thai   \n",
       "2   credit_card            male        Petro-Canada   \n",
       "3  bank_account          female      The Beer Store   \n",
       "4  bank_account            male         Intermarche   \n",
       "\n",
       "             SIC Description  Purchase Amount Transaction Date   Age  \n",
       "0              Eating Places            15.52       2019-07-01  22.0  \n",
       "1              Eating Places            11.29       2019-09-30  30.0  \n",
       "2  Gasoline Service Stations            10.78       2019-06-24  34.0  \n",
       "3                      Other            88.90       2018-10-01  43.0  \n",
       "4             Grocery Stores            23.54       2019-12-01  62.0  "
      ]
     },
     "execution_count": 7,
     "metadata": {},
     "output_type": "execute_result"
    }
   ],
   "source": [
    "df.head()\n",
    "#df.to_csv('data/cc_data_processed.csv',index = False)"
   ]
  },
  {
   "cell_type": "code",
   "execution_count": 8,
   "metadata": {},
   "outputs": [],
   "source": [
    "#df_test = df.sample(n = 10000)\n",
    "#sns.distplot(df_test['Age']);"
   ]
  },
  {
   "cell_type": "code",
   "execution_count": 22,
   "metadata": {
    "scrolled": true
   },
   "outputs": [
    {
     "name": "stderr",
     "output_type": "stream",
     "text": [
      "d:\\anaconda3\\lib\\site-packages\\seaborn\\distributions.py:2551: FutureWarning: `distplot` is a deprecated function and will be removed in a future version. Please adapt your code to use either `displot` (a figure-level function with similar flexibility) or `histplot` (an axes-level function for histograms).\n",
      "  warnings.warn(msg, FutureWarning)\n"
     ]
    },
    {
     "data": {
      "image/png": "[encoded data removed]",
      "text/plain": [
       "<Figure size 432x288 with 1 Axes>"
      ]
     },
     "metadata": {
      "needs_background": "light"
     },
     "output_type": "display_data"
    }
   ],
   "source": [
    "# ago histogram\n",
    "ax = sns.distplot(df['Age']);\n",
    "ax.set(xlabel='Age (Input)')\n",
    "#plt.savefig('figs/eda/age_hist_input.png',bbox_inches='tight');"
   ]
  },
  {
   "cell_type": "code",
   "execution_count": 27,
   "metadata": {},
   "outputs": [
    {
     "name": "stderr",
     "output_type": "stream",
     "text": [
      "d:\\anaconda3\\lib\\site-packages\\seaborn\\distributions.py:2551: FutureWarning: `distplot` is a deprecated function and will be removed in a future version. Please adapt your code to use either `displot` (a figure-level function with similar flexibility) or `histplot` (an axes-level function for histograms).\n",
      "  warnings.warn(msg, FutureWarning)\n"
     ]
    },
    {
     "data": {
      "image/png": "[encoded data removed]",
      "text/plain": [
       "<Figure size 432x288 with 1 Axes>"
      ]
     },
     "metadata": {
      "needs_background": "light"
     },
     "output_type": "display_data"
    }
   ],
   "source": [
    "# check purchase amount, replace all values above the threshold to threshold\n",
    "df[\"Purchase Amount Clipped\"]= df[\"Purchase Amount\"].clip(upper = 500) \n",
    "ax = sns.distplot(df['Purchase Amount Clipped']);\n",
    "ax.set(xlabel='Purchase Amount (Input)')\n",
    "#plt.savefig('figs/eda/purchase_hist_input.png',bbox_inches='tight')"
   ]
  },
  {
   "cell_type": "code",
   "execution_count": 28,
   "metadata": {},
   "outputs": [
    {
     "name": "stdout",
     "output_type": "stream",
     "text": [
      "Account Type\n",
      "   Account Type   Counts    Per (%)\n",
      "0  bank_account  1878636  53.839509\n",
      "1   credit_card  1610690  46.160491\n",
      "\n",
      "\n",
      "Consumer Gender\n",
      "  Consumer Gender   Counts    Per (%)\n",
      "0          female  1949501  55.870417\n",
      "1            male  1539825  44.129583\n",
      "\n",
      "\n",
      "Normalized Retailer\n",
      "         Normalized Retailer  Counts    Per (%)\n",
      "2194             Tim Hortons  412788  11.830021\n",
      "1361              McDonald's  212414   6.087537\n",
      "2346                 Walmart  186174   5.335529\n",
      "50                    Amazon  161985   4.642301\n",
      "1930      Shoppers Drug Mart  106277   3.045774\n",
      "...                      ...     ...        ...\n",
      "1562  PITT MEADOWS GOLF CLUB       1   0.000029\n",
      "2301          Village Bagels       1   0.000029\n",
      "1561    PINEVIEW GOLF COURSE       1   0.000029\n",
      "731                  Flipkey       1   0.000029\n",
      "804   GRANITE SPRINGS GOLF C       1   0.000029\n",
      "\n",
      "[2441 rows x 3 columns]\n",
      "\n",
      "\n",
      "SIC Description\n",
      "                                     SIC Description   Counts    Per (%)\n",
      "3                                      Eating Places  1079719  30.943483\n",
      "6                                     Grocery Stores   700055  20.062757\n",
      "8                                              Other   666299  19.095350\n",
      "5                          Gasoline Service Stations   362355  10.384670\n",
      "0                                        Book Stores   178121   5.104739\n",
      "2                 Drug Stores and Proprietary Stores   169485   4.857242\n",
      "7                          Miscellaneous Food Stores   103502   2.966246\n",
      "4                             Family Clothing Stores    91817   2.631368\n",
      "9                                           Taxicabs    74594   2.137777\n",
      "1  Communications Services, Not Elsewhere Classified    63379   1.816368\n",
      "\n",
      "\n"
     ]
    }
   ],
   "source": [
    "# gender, account type, sector and retailer percentage\n",
    "text_col_list = ['Account Type', 'Consumer Gender','Normalized Retailer', 'SIC Description']\n",
    "\n",
    "for col_name in text_col_list:   \n",
    "    print(col_name)\n",
    "    df_pivot = view_column_counts(df,col_name)\n",
    "    print(df_pivot)\n",
    "    print('\\n')"
   ]
  },
  {
   "cell_type": "code",
   "execution_count": 29,
   "metadata": {},
   "outputs": [],
   "source": [
    "# view purchase amounts for each column's elements\n",
    "def view_column_purchase(df, col_name):\n",
    "    df_pivot = df.groupby(by = col_name)['Purchase Amount'].apply(list).reset_index(name = 'Purchase List')\n",
    "    df_pivot['Counts'] = df_pivot['Purchase List'].apply(len)\n",
    "    df_pivot.sort_values(by = 'Counts',ascending = False,inplace = True)\n",
    "    df_pivot = df_pivot.reset_index(drop=True)\n",
    "    return df_pivot\n",
    "\n",
    "# df_sector = view_column_purchase(df, 'SIC Description')\n",
    "# print(\"Top sectors: \", list(df_sector.nlargest(5, 'Counts')['SIC Description']))\n",
    "# df_sector.head()"
   ]
  },
  {
   "cell_type": "code",
   "execution_count": 36,
   "metadata": {},
   "outputs": [
    {
     "name": "stdout",
     "output_type": "stream",
     "text": [
      "barplot for SIC Description\n"
     ]
    },
    {
     "data": {
      "image/png": "[encoded data removed]",
      "text/plain": [
       "<Figure size 432x360 with 1 Axes>"
      ]
     },
     "metadata": {
      "needs_background": "light"
     },
     "output_type": "display_data"
    },
    {
     "name": "stdout",
     "output_type": "stream",
     "text": [
      "barplot for Normalized Retailer\n"
     ]
    },
    {
     "data": {
      "image/png": "[encoded data removed]",
      "text/plain": [
       "<Figure size 432x360 with 1 Axes>"
      ]
     },
     "metadata": {
      "needs_background": "light"
     },
     "output_type": "display_data"
    }
   ],
   "source": [
    "check_list = ['SIC Description','Normalized Retailer']\n",
    "fig_dims = [6, 5] \n",
    "N = 5\n",
    "threshold = 100\n",
    "\n",
    "for cat in check_list:   \n",
    "    print(\"barplot for %s\" % (cat))\n",
    "    list_tmp = df[cat].value_counts()[:N].index.tolist() # top N counts in that category\n",
    "    df_tmp = df[df[cat].isin(list_tmp) & (df['Purchase Amount'] < threshold)].sort_values(by = cat)\n",
    "    fig, ax = plt.subplots(figsize = fig_dims)\n",
    "    chart = sns.boxplot(y = df_tmp[cat], x = df_tmp['Purchase Amount'])\n",
    "    ax.set(xlabel='Purchase Amount (Input)')\n",
    "    #plt.savefig('figs/eda/purchase_' + cat + '_input.png',bbox_inches='tight')\n",
    "    plt.show()\n"
   ]
  }
 ],
 "metadata": {
  "kernelspec": {
   "display_name": "Python 3",
   "language": "python",
   "name": "python3"
  },
  "language_info": {
   "codemirror_mode": {
    "name": "ipython",
    "version": 3
   },
   "file_extension": ".py",
   "mimetype": "text/x-python",
   "name": "python",
   "nbconvert_exporter": "python",
   "pygments_lexer": "ipython3",
   "version": "3.7.6"
  }
 },
 "nbformat": 4,
 "nbformat_minor": 4
}
